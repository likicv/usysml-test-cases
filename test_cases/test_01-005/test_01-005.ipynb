{
 "cells": [
  {
   "cell_type": "code",
   "execution_count": 4,
   "metadata": {},
   "outputs": [
    {
     "data": {
      "text/plain": [
       "Package PackageVehicles1 (9451340a-f1f5-4d65-81df-427ca93bf361)\n",
       "Package PackageVehicles2 (d019476e-3d24-46f8-b097-83d1fd7b6bcd)\n",
       "PartDefinition Lugbolt (f0fb1762-ddc9-4a00-84e6-a23ab841b3ba)\n"
      ]
     },
     "execution_count": 4,
     "metadata": {},
     "output_type": "execute_result"
    }
   ],
   "source": [
    "package PackageVehicles1 {\n",
    "  \n",
    "    part def Vehicle;\n",
    "    part def Wheel {\n",
    "        \n",
    "    }\n",
    "\n",
    "    part vehicle:Vehicle {\n",
    "        part w:Wheel[4];\n",
    "    }\n",
    "}\n",
    "\n",
    "package PackageVehicles2 {\n",
    "\n",
    "    part def Vehicle;\n",
    "    part def Wheel;\n",
    "\n",
    "    part vehicle:Vehicle {\n",
    "        part def Wheel;\n",
    "        part w:Wheel[4] {\n",
    "            part lb:Lugbolt;\n",
    "        }\n",
    "    }\n",
    "}\n",
    "\n",
    "part def Lugbolt;"
   ]
  },
  {
   "cell_type": "code",
   "execution_count": 5,
   "metadata": {},
   "outputs": [
    {
     "data": {
      "image/svg+xml": [
       "<?xml version=\"1.0\" encoding=\"UTF-8\" standalone=\"no\"?><svg xmlns=\"http://www.w3.org/2000/svg\" xmlns:xlink=\"http://www.w3.org/1999/xlink\" contentScriptType=\"application/ecmascript\" contentStyleType=\"text/css\" height=\"327px\" preserveAspectRatio=\"none\" style=\"width:508px;height:327px;\" version=\"1.1\" viewBox=\"0 0 508 327\" width=\"508px\" zoomAndPan=\"magnify\"><defs/><g><!--MD5=[fbc87193dbaf4d95561dea2c320d4a47]\n",
       "cluster E1--><a href=\"psysml:e4c9f46c-05a7-4591-8252-0465e47c0c4f\" target=\"_top\" title=\"psysml:e4c9f46c-05a7-4591-8252-0465e47c0c4f\" xlink:actuate=\"onRequest\" xlink:href=\"psysml:e4c9f46c-05a7-4591-8252-0465e47c0c4f\" xlink:show=\"new\" xlink:title=\"psysml:e4c9f46c-05a7-4591-8252-0465e47c0c4f\" xlink:type=\"simple\"><polygon fill=\"#FFFFFF\" points=\"16,6,165,6,172,28.2969,219,28.2969,219,315,16,315,16,6\" style=\"stroke: #000000; stroke-width: 1.5;\"/><line style=\"stroke: #000000; stroke-width: 1.5;\" x1=\"16\" x2=\"172\" y1=\"28.2969\" y2=\"28.2969\"/><text fill=\"#000000\" font-family=\"sans-serif\" font-size=\"14\" font-weight=\"bold\" lengthAdjust=\"spacingAndGlyphs\" textLength=\"143\" x=\"20\" y=\"20.9951\">PackageVehicles1</text></a><!--MD5=[14e3b0961a2654348d326746436168a1]\n",
       "cluster E6--><a href=\"psysml:93b45f73-8145-4c51-859b-34a30a754a6e\" target=\"_top\" title=\"psysml:93b45f73-8145-4c51-859b-34a30a754a6e\" xlink:actuate=\"onRequest\" xlink:href=\"psysml:93b45f73-8145-4c51-859b-34a30a754a6e\" xlink:show=\"new\" xlink:title=\"psysml:93b45f73-8145-4c51-859b-34a30a754a6e\" xlink:type=\"simple\"><polygon fill=\"#FFFFFF\" points=\"243,6,392,6,399,28.2969,486,28.2969,486,315,243,315,243,6\" style=\"stroke: #000000; stroke-width: 1.5;\"/><line style=\"stroke: #000000; stroke-width: 1.5;\" x1=\"243\" x2=\"399\" y1=\"28.2969\" y2=\"28.2969\"/><text fill=\"#000000\" font-family=\"sans-serif\" font-size=\"14\" font-weight=\"bold\" lengthAdjust=\"spacingAndGlyphs\" textLength=\"143\" x=\"247\" y=\"20.9951\">PackageVehicles2</text></a><!--MD5=[b4997ac47864f28c2f74865a473b2911]\n",
       "class E2--><a href=\"psysml:1a27f74d-1fe1-4cd1-a533-c9b008dc8e82\" target=\"_top\" title=\"psysml:1a27f74d-1fe1-4cd1-a533-c9b008dc8e82\" xlink:actuate=\"onRequest\" xlink:href=\"psysml:1a27f74d-1fe1-4cd1-a533-c9b008dc8e82\" xlink:show=\"new\" xlink:title=\"psysml:1a27f74d-1fe1-4cd1-a533-c9b008dc8e82\" xlink:type=\"simple\"><rect fill=\"#FFFFFF\" height=\"45.9375\" id=\"E2\" style=\"stroke: #383838; stroke-width: 1.5;\" width=\"70\" x=\"32\" y=\"147\"/><text fill=\"#000000\" font-family=\"sans-serif\" font-size=\"12\" font-style=\"italic\" lengthAdjust=\"spacingAndGlyphs\" textLength=\"68\" x=\"33\" y=\"163.1387\">«part  def»</text><text fill=\"#000000\" font-family=\"sans-serif\" font-size=\"12\" lengthAdjust=\"spacingAndGlyphs\" textLength=\"45\" x=\"44.5\" y=\"177.1074\">Vehicle</text><line style=\"stroke: #383838; stroke-width: 1.5;\" x1=\"33\" x2=\"101\" y1=\"184.9375\" y2=\"184.9375\"/></a><!--MD5=[09b614a08d8cba4a07c9adeb5e0fee81]\n",
       "class E3--><a href=\"psysml:111017de-4cfe-4ec9-8bf4-9c891218c9d5\" target=\"_top\" title=\"psysml:111017de-4cfe-4ec9-8bf4-9c891218c9d5\" xlink:actuate=\"onRequest\" xlink:href=\"psysml:111017de-4cfe-4ec9-8bf4-9c891218c9d5\" xlink:show=\"new\" xlink:title=\"psysml:111017de-4cfe-4ec9-8bf4-9c891218c9d5\" xlink:type=\"simple\"><rect fill=\"#FFFFFF\" height=\"45.9375\" id=\"E3\" style=\"stroke: #383838; stroke-width: 1.5;\" width=\"70\" x=\"133\" y=\"253\"/><text fill=\"#000000\" font-family=\"sans-serif\" font-size=\"12\" font-style=\"italic\" lengthAdjust=\"spacingAndGlyphs\" textLength=\"68\" x=\"134\" y=\"269.1387\">«part  def»</text><text fill=\"#000000\" font-family=\"sans-serif\" font-size=\"12\" lengthAdjust=\"spacingAndGlyphs\" textLength=\"38\" x=\"149\" y=\"283.1074\">Wheel</text><line style=\"stroke: #383838; stroke-width: 1.5;\" x1=\"134\" x2=\"202\" y1=\"290.9375\" y2=\"290.9375\"/></a><!--MD5=[ebbe1d658d1005bcc118a6aa81145e00]\n",
       "class E4--><a href=\"psysml:39223516-ad94-489d-bacf-dfdc85e50061\" target=\"_top\" title=\"psysml:39223516-ad94-489d-bacf-dfdc85e50061\" xlink:actuate=\"onRequest\" xlink:href=\"psysml:39223516-ad94-489d-bacf-dfdc85e50061\" xlink:show=\"new\" xlink:title=\"psysml:39223516-ad94-489d-bacf-dfdc85e50061\" xlink:type=\"simple\"><rect fill=\"#FFFFFF\" height=\"45.9375\" id=\"E4\" rx=\"10\" ry=\"10\" style=\"stroke: #383838; stroke-width: 1.5;\" width=\"106\" x=\"64\" y=\"41\"/><text fill=\"#000000\" font-family=\"sans-serif\" font-size=\"12\" font-style=\"italic\" lengthAdjust=\"spacingAndGlyphs\" textLength=\"40\" x=\"97\" y=\"57.1387\">«part»</text><text fill=\"#000000\" font-family=\"sans-serif\" font-size=\"12\" lengthAdjust=\"spacingAndGlyphs\" textLength=\"96\" x=\"67\" y=\"71.1074\">vehicle: Vehicle</text><line style=\"stroke: #383838; stroke-width: 1.5;\" x1=\"65\" x2=\"169\" y1=\"78.9375\" y2=\"78.9375\"/></a><!--MD5=[270fce915f116d4de14055a7c1d9a0f3]\n",
       "class E5--><a href=\"psysml:935907dd-edba-4df4-a9d8-52331cb3cfd8\" target=\"_top\" title=\"psysml:935907dd-edba-4df4-a9d8-52331cb3cfd8\" xlink:actuate=\"onRequest\" xlink:href=\"psysml:935907dd-edba-4df4-a9d8-52331cb3cfd8\" xlink:show=\"new\" xlink:title=\"psysml:935907dd-edba-4df4-a9d8-52331cb3cfd8\" xlink:type=\"simple\"><rect fill=\"#FFFFFF\" height=\"45.9375\" id=\"E5\" rx=\"10\" ry=\"10\" style=\"stroke: #383838; stroke-width: 1.5;\" width=\"65\" x=\"137.5\" y=\"147\"/><text fill=\"#000000\" font-family=\"sans-serif\" font-size=\"12\" font-style=\"italic\" lengthAdjust=\"spacingAndGlyphs\" textLength=\"40\" x=\"150\" y=\"163.1387\">«part»</text><text fill=\"#000000\" font-family=\"sans-serif\" font-size=\"12\" lengthAdjust=\"spacingAndGlyphs\" textLength=\"55\" x=\"140.5\" y=\"177.1074\">w: Wheel</text><line style=\"stroke: #383838; stroke-width: 1.5;\" x1=\"138.5\" x2=\"201.5\" y1=\"184.9375\" y2=\"184.9375\"/></a><!--MD5=[2156ba9850f5573cc1fc38a6a4b2f02b]\n",
       "class E7--><a href=\"psysml:70e98285-320d-437d-a2cc-ec94b9ba1ba9\" target=\"_top\" title=\"psysml:70e98285-320d-437d-a2cc-ec94b9ba1ba9\" xlink:actuate=\"onRequest\" xlink:href=\"psysml:70e98285-320d-437d-a2cc-ec94b9ba1ba9\" xlink:show=\"new\" xlink:title=\"psysml:70e98285-320d-437d-a2cc-ec94b9ba1ba9\" xlink:type=\"simple\"><rect fill=\"#FFFFFF\" height=\"45.9375\" id=\"E7\" style=\"stroke: #383838; stroke-width: 1.5;\" width=\"70\" x=\"259\" y=\"147\"/><text fill=\"#000000\" font-family=\"sans-serif\" font-size=\"12\" font-style=\"italic\" lengthAdjust=\"spacingAndGlyphs\" textLength=\"68\" x=\"260\" y=\"163.1387\">«part  def»</text><text fill=\"#000000\" font-family=\"sans-serif\" font-size=\"12\" lengthAdjust=\"spacingAndGlyphs\" textLength=\"45\" x=\"271.5\" y=\"177.1074\">Vehicle</text><line style=\"stroke: #383838; stroke-width: 1.5;\" x1=\"260\" x2=\"328\" y1=\"184.9375\" y2=\"184.9375\"/></a><!--MD5=[b9389687b975829384b498ac4b7476b2]\n",
       "class E8--><a href=\"psysml:2584180a-1880-4a2d-99c1-bf036e1f761a\" target=\"_top\" title=\"psysml:2584180a-1880-4a2d-99c1-bf036e1f761a\" xlink:actuate=\"onRequest\" xlink:href=\"psysml:2584180a-1880-4a2d-99c1-bf036e1f761a\" xlink:show=\"new\" xlink:title=\"psysml:2584180a-1880-4a2d-99c1-bf036e1f761a\" xlink:type=\"simple\"><rect fill=\"#FFFFFF\" height=\"45.9375\" id=\"E8\" style=\"stroke: #383838; stroke-width: 1.5;\" width=\"70\" x=\"400\" y=\"41\"/><text fill=\"#000000\" font-family=\"sans-serif\" font-size=\"12\" font-style=\"italic\" lengthAdjust=\"spacingAndGlyphs\" textLength=\"68\" x=\"401\" y=\"57.1387\">«part  def»</text><text fill=\"#000000\" font-family=\"sans-serif\" font-size=\"12\" lengthAdjust=\"spacingAndGlyphs\" textLength=\"38\" x=\"416\" y=\"71.1074\">Wheel</text><line style=\"stroke: #383838; stroke-width: 1.5;\" x1=\"401\" x2=\"469\" y1=\"78.9375\" y2=\"78.9375\"/></a><!--MD5=[fd4143e9d270a159db93a4ea2a975926]\n",
       "class E9--><a href=\"psysml:53900b81-085b-44ac-8118-bb6c21011ea8\" target=\"_top\" title=\"psysml:53900b81-085b-44ac-8118-bb6c21011ea8\" xlink:actuate=\"onRequest\" xlink:href=\"psysml:53900b81-085b-44ac-8118-bb6c21011ea8\" xlink:show=\"new\" xlink:title=\"psysml:53900b81-085b-44ac-8118-bb6c21011ea8\" xlink:type=\"simple\"><rect fill=\"#FFFFFF\" height=\"45.9375\" id=\"E9\" rx=\"10\" ry=\"10\" style=\"stroke: #383838; stroke-width: 1.5;\" width=\"106\" x=\"259\" y=\"41\"/><text fill=\"#000000\" font-family=\"sans-serif\" font-size=\"12\" font-style=\"italic\" lengthAdjust=\"spacingAndGlyphs\" textLength=\"40\" x=\"292\" y=\"57.1387\">«part»</text><text fill=\"#000000\" font-family=\"sans-serif\" font-size=\"12\" lengthAdjust=\"spacingAndGlyphs\" textLength=\"96\" x=\"262\" y=\"71.1074\">vehicle: Vehicle</text><line style=\"stroke: #383838; stroke-width: 1.5;\" x1=\"260\" x2=\"364\" y1=\"78.9375\" y2=\"78.9375\"/></a><!--MD5=[96f4274e9e20536e775497830990834d]\n",
       "class E10--><a href=\"psysml:0df62347-24ab-4fb4-ad8b-c9bf8fbaeb8a\" target=\"_top\" title=\"psysml:0df62347-24ab-4fb4-ad8b-c9bf8fbaeb8a\" xlink:actuate=\"onRequest\" xlink:href=\"psysml:0df62347-24ab-4fb4-ad8b-c9bf8fbaeb8a\" xlink:show=\"new\" xlink:title=\"psysml:0df62347-24ab-4fb4-ad8b-c9bf8fbaeb8a\" xlink:type=\"simple\"><rect fill=\"#FFFFFF\" height=\"45.9375\" id=\"E10\" style=\"stroke: #383838; stroke-width: 1.5;\" width=\"70\" x=\"290\" y=\"253\"/><text fill=\"#000000\" font-family=\"sans-serif\" font-size=\"12\" font-style=\"italic\" lengthAdjust=\"spacingAndGlyphs\" textLength=\"68\" x=\"291\" y=\"269.1387\">«part  def»</text><text fill=\"#000000\" font-family=\"sans-serif\" font-size=\"12\" lengthAdjust=\"spacingAndGlyphs\" textLength=\"38\" x=\"306\" y=\"283.1074\">Wheel</text><line style=\"stroke: #383838; stroke-width: 1.5;\" x1=\"291\" x2=\"359\" y1=\"290.9375\" y2=\"290.9375\"/></a><!--MD5=[1dd1bfd58a279cf63c5f349dbc8fc6a1]\n",
       "class E11--><a href=\"psysml:67f34bc6-1563-4e05-b9f9-a2906e375717\" target=\"_top\" title=\"psysml:67f34bc6-1563-4e05-b9f9-a2906e375717\" xlink:actuate=\"onRequest\" xlink:href=\"psysml:67f34bc6-1563-4e05-b9f9-a2906e375717\" xlink:show=\"new\" xlink:title=\"psysml:67f34bc6-1563-4e05-b9f9-a2906e375717\" xlink:type=\"simple\"><rect fill=\"#FFFFFF\" height=\"45.9375\" id=\"E11\" rx=\"10\" ry=\"10\" style=\"stroke: #383838; stroke-width: 1.5;\" width=\"65\" x=\"401.5\" y=\"147\"/><text fill=\"#000000\" font-family=\"sans-serif\" font-size=\"12\" font-style=\"italic\" lengthAdjust=\"spacingAndGlyphs\" textLength=\"40\" x=\"414\" y=\"163.1387\">«part»</text><text fill=\"#000000\" font-family=\"sans-serif\" font-size=\"12\" lengthAdjust=\"spacingAndGlyphs\" textLength=\"55\" x=\"404.5\" y=\"177.1074\">w: Wheel</text><line style=\"stroke: #383838; stroke-width: 1.5;\" x1=\"402.5\" x2=\"465.5\" y1=\"184.9375\" y2=\"184.9375\"/></a><!--MD5=[49a0ec8f00dab7302a31f22d0f0fe584]\n",
       "class E12--><a href=\"psysml:ef15bd13-e961-4eae-8a88-45e970d04364\" target=\"_top\" title=\"psysml:ef15bd13-e961-4eae-8a88-45e970d04364\" xlink:actuate=\"onRequest\" xlink:href=\"psysml:ef15bd13-e961-4eae-8a88-45e970d04364\" xlink:show=\"new\" xlink:title=\"psysml:ef15bd13-e961-4eae-8a88-45e970d04364\" xlink:type=\"simple\"><rect fill=\"#FFFFFF\" height=\"45.9375\" id=\"E12\" rx=\"10\" ry=\"10\" style=\"stroke: #383838; stroke-width: 1.5;\" width=\"75\" x=\"395.5\" y=\"253\"/><text fill=\"#000000\" font-family=\"sans-serif\" font-size=\"12\" font-style=\"italic\" lengthAdjust=\"spacingAndGlyphs\" textLength=\"40\" x=\"413\" y=\"269.1387\">«part»</text><text fill=\"#000000\" font-family=\"sans-serif\" font-size=\"12\" lengthAdjust=\"spacingAndGlyphs\" textLength=\"65\" x=\"398.5\" y=\"283.1074\">lb: Lugbolt</text><line style=\"stroke: #383838; stroke-width: 1.5;\" x1=\"396.5\" x2=\"469.5\" y1=\"290.9375\" y2=\"290.9375\"/></a><!--MD5=[185131fc0dcab0a4505a2ebe144e961b]\n",
       "link E4 to E2--><a href=\"psysml:0910a38b-30b1-44ef-af3a-c6f47cc67fd6\" target=\"_top\" title=\"psysml:0910a38b-30b1-44ef-af3a-c6f47cc67fd6\" xlink:actuate=\"onRequest\" xlink:href=\"psysml:0910a38b-30b1-44ef-af3a-c6f47cc67fd6\" xlink:show=\"new\" xlink:title=\"psysml:0910a38b-30b1-44ef-af3a-c6f47cc67fd6\" xlink:type=\"simple\"><path d=\"M106.4,87.06 C100.56,99.19 93.14,114.62 86.32,128.82 \" fill=\"none\" id=\"E4-&gt;E2\" style=\"stroke: #383838; stroke-width: 1.0;\"/><polygon fill=\"#FFFFFF\" points=\"77.59,146.98,79.5106,126.8228,92.1291,132.8869,77.59,146.98\" style=\"stroke: #383838; stroke-width: 1.0;\"/><ellipse cx=\"83.7822\" cy=\"122.5516\" fill=\"#383838\" rx=\"2\" ry=\"2\" style=\"stroke: #383838; stroke-width: 1.0;\"/><ellipse cx=\"92.7954\" cy=\"126.8831\" fill=\"#383838\" rx=\"2\" ry=\"2\" style=\"stroke: #383838; stroke-width: 1.0;\"/></a><!--MD5=[62aa6af11e70f752912c1cb0466f24f7]\n",
       "reverse link E4 to E5--><a href=\"psysml:cd21b64c-b428-4856-92d9-02f98c460751\" target=\"_top\" title=\"psysml:cd21b64c-b428-4856-92d9-02f98c460751\" xlink:actuate=\"onRequest\" xlink:href=\"psysml:cd21b64c-b428-4856-92d9-02f98c460751\" xlink:show=\"new\" xlink:title=\"psysml:cd21b64c-b428-4856-92d9-02f98c460751\" xlink:type=\"simple\"><path d=\"M134.34,99.03 C142.37,114.78 151.68,133.06 158.78,146.98 \" fill=\"none\" id=\"E4&lt;-E5\" style=\"stroke: #383838; stroke-width: 1.0;\"/><polygon fill=\"#383838\" points=\"128.24,87.06,127.3983,94.2218,133.6855,97.7533,134.5272,90.5915,128.24,87.06\" style=\"stroke: #383838; stroke-width: 1.0;\"/><text fill=\"#000000\" font-family=\"sans-serif\" font-size=\"13\" lengthAdjust=\"spacingAndGlyphs\" textLength=\"8\" x=\"146.6896\" y=\"135.8709\">4</text></a><!--MD5=[e9be52314489bd878ff4c7144b63c9e1]\n",
       "link E5 to E3--><a href=\"psysml:92991ec1-8b2a-4dc7-a58b-0934ba62656b\" target=\"_top\" title=\"psysml:92991ec1-8b2a-4dc7-a58b-0934ba62656b\" xlink:actuate=\"onRequest\" xlink:href=\"psysml:92991ec1-8b2a-4dc7-a58b-0934ba62656b\" xlink:show=\"new\" xlink:title=\"psysml:92991ec1-8b2a-4dc7-a58b-0934ba62656b\" xlink:type=\"simple\"><path d=\"M169.58,193.06 C169.35,204.64 169.07,219.23 168.81,232.87 \" fill=\"none\" id=\"E5-&gt;E3\" style=\"stroke: #383838; stroke-width: 1.0;\"/><polygon fill=\"#FFFFFF\" points=\"168.42,252.98,161.774,233.8533,175.7716,234.1133,168.42,252.98\" style=\"stroke: #383838; stroke-width: 1.0;\"/><ellipse cx=\"163.8795\" cy=\"228.1914\" fill=\"#383838\" rx=\"2\" ry=\"2\" style=\"stroke: #383838; stroke-width: 1.0;\"/><ellipse cx=\"173.8778\" cy=\"228.3771\" fill=\"#383838\" rx=\"2\" ry=\"2\" style=\"stroke: #383838; stroke-width: 1.0;\"/></a><!--MD5=[cf04703ca05eebef50f1cfe8b03e143b]\n",
       "link E9 to E7--><a href=\"psysml:c87a5057-34a5-4952-82ca-102591f20f2b\" target=\"_top\" title=\"psysml:c87a5057-34a5-4952-82ca-102591f20f2b\" xlink:actuate=\"onRequest\" xlink:href=\"psysml:c87a5057-34a5-4952-82ca-102591f20f2b\" xlink:show=\"new\" xlink:title=\"psysml:c87a5057-34a5-4952-82ca-102591f20f2b\" xlink:type=\"simple\"><path d=\"M308.18,87.06 C306.18,98.64 303.65,113.23 301.29,126.87 \" fill=\"none\" id=\"E9-&gt;E7\" style=\"stroke: #383838; stroke-width: 1.0;\"/><polygon fill=\"#FFFFFF\" points=\"297.81,146.98,294.1434,127.0663,307.9394,129.4473,297.81,146.98\" style=\"stroke: #383838; stroke-width: 1.0;\"/><ellipse cx=\"297.0837\" cy=\"121.7895\" fill=\"#383838\" rx=\"2\" ry=\"2\" style=\"stroke: #383838; stroke-width: 1.0;\"/><ellipse cx=\"306.938\" cy=\"123.4902\" fill=\"#383838\" rx=\"2\" ry=\"2\" style=\"stroke: #383838; stroke-width: 1.0;\"/></a><!--MD5=[23ac544a70576c3e717098101004234c]\n",
       "reverse link E9 to E10--><a href=\"psysml:818780ca-f104-4545-9fda-f7bb7c931b90\" target=\"_top\" title=\"psysml:818780ca-f104-4545-9fda-f7bb7c931b90\" xlink:actuate=\"onRequest\" xlink:href=\"psysml:818780ca-f104-4545-9fda-f7bb7c931b90\" xlink:show=\"new\" xlink:title=\"psysml:818780ca-f104-4545-9fda-f7bb7c931b90\" xlink:type=\"simple\"><path d=\"M330.97,100.75 C337.41,114.77 343.78,131.24 347,147 C354.54,183.89 342.88,227.12 333.86,252.72 \" fill=\"none\" id=\"E9&lt;-E10\" style=\"stroke: #383838; stroke-width: 1.0;\"/><ellipse cx=\"327.8682\" cy=\"94.3646\" fill=\"#FFFFFF\" rx=\"8\" ry=\"8\" style=\"stroke: #383838; stroke-width: 1.0;\"/><line style=\"stroke: #383838; stroke-width: 1.0;\" x1=\"331.3665\" x2=\"324.37\" y1=\"101.5592\" y2=\"87.17\"/><line style=\"stroke: #383838; stroke-width: 1.0;\" x1=\"320.6736\" x2=\"335.0628\" y1=\"97.8628\" y2=\"90.8664\"/></a><!--MD5=[1fc04a95fd77ad5ce46c1a3027516051]\n",
       "reverse link E9 to E11--><a href=\"psysml:5f788066-d62b-43c5-81a4-a1c0ffa33ca7\" target=\"_top\" title=\"psysml:5f788066-d62b-43c5-81a4-a1c0ffa33ca7\" xlink:actuate=\"onRequest\" xlink:href=\"psysml:5f788066-d62b-43c5-81a4-a1c0ffa33ca7\" xlink:show=\"new\" xlink:title=\"psysml:5f788066-d62b-43c5-81a4-a1c0ffa33ca7\" xlink:type=\"simple\"><path d=\"M347.85,95.56 C367.19,112.05 390.62,132.02 408.16,146.98 \" fill=\"none\" id=\"E9&lt;-E11\" style=\"stroke: #383838; stroke-width: 1.0;\"/><polygon fill=\"#383838\" points=\"337.87,87.06,339.8348,93.9983,346.995,94.8532,345.0302,87.9149,337.87,87.06\" style=\"stroke: #383838; stroke-width: 1.0;\"/><text fill=\"#000000\" font-family=\"sans-serif\" font-size=\"13\" lengthAdjust=\"spacingAndGlyphs\" textLength=\"8\" x=\"392.1405\" y=\"135.8709\">4</text></a><!--MD5=[6f6df096f98ef2f51f3b8a36b1949395]\n",
       "link E11 to E10--><a href=\"psysml:135bcdd6-5c60-4e0e-9133-f32af5c07074\" target=\"_top\" title=\"psysml:135bcdd6-5c60-4e0e-9133-f32af5c07074\" xlink:actuate=\"onRequest\" xlink:href=\"psysml:135bcdd6-5c60-4e0e-9133-f32af5c07074\" xlink:show=\"new\" xlink:title=\"psysml:135bcdd6-5c60-4e0e-9133-f32af5c07074\" xlink:type=\"simple\"><path d=\"M410.88,193.06 C396.87,206.43 378.65,223.81 362.6,239.13 \" fill=\"none\" id=\"E11-&gt;E10\" style=\"stroke: #383838; stroke-width: 1.0;\"/><polygon fill=\"#FFFFFF\" points=\"348.08,252.98,356.981,234.7929,366.6529,244.9149,348.08,252.98\" style=\"stroke: #383838; stroke-width: 1.0;\"/><ellipse cx=\"362.4838\" cy=\"232.301\" fill=\"#383838\" rx=\"2\" ry=\"2\" style=\"stroke: #383838; stroke-width: 1.0;\"/><ellipse cx=\"369.3923\" cy=\"239.531\" fill=\"#383838\" rx=\"2\" ry=\"2\" style=\"stroke: #383838; stroke-width: 1.0;\"/></a><!--MD5=[94adabc162ce7e41b39f13be14fbaeb3]\n",
       "reverse link E11 to E12--><a href=\"psysml:f9d7fccc-b201-4e5d-aa34-83245e0d3093\" target=\"_top\" title=\"psysml:f9d7fccc-b201-4e5d-aa34-83245e0d3093\" xlink:actuate=\"onRequest\" xlink:href=\"psysml:f9d7fccc-b201-4e5d-aa34-83245e0d3093\" xlink:show=\"new\" xlink:title=\"psysml:f9d7fccc-b201-4e5d-aa34-83245e0d3093\" xlink:type=\"simple\"><path d=\"M433.66,206.44 C433.51,221.87 433.34,239.47 433.21,252.98 \" fill=\"none\" id=\"E11&lt;-E12\" style=\"stroke: #383838; stroke-width: 1.0;\"/><polygon fill=\"#383838\" points=\"433.79,193.06,429.7309,199.0201,433.6713,205.0594,437.7305,199.0993,433.79,193.06\" style=\"stroke: #383838; stroke-width: 1.0;\"/><text fill=\"#000000\" font-family=\"sans-serif\" font-size=\"13\" lengthAdjust=\"spacingAndGlyphs\" textLength=\"8\" x=\"424.1914\" y=\"241.8709\">1</text></a><!--MD5=[2695bb4b8a59fe051fa838b02af32dac]\n",
       "@startuml\r\n",
       "skinparam monochrome true\r\n",
       "skinparam classbackgroundcolor white\r\n",
       "skinparam shadowing false\r\n",
       "skinparam wrapWidth 300\r\n",
       "hide circle\r\n",
       "\r\n",
       "package \"PackageVehicles1\" as E1  [[psysml:e4c9f46c-05a7-4591-8252-0465e47c0c4f ]]  {\r\n",
       "comp def \"Vehicle\" as E2  <<(T,blue) part  def>> [[psysml:1a27f74d-1fe1-4cd1-a533-c9b008dc8e82 ]] {\r\n",
       "}\r\n",
       "comp def \"Wheel\" as E3  <<(T,blue) part  def>> [[psysml:111017de-4cfe-4ec9-8bf4-9c891218c9d5 ]] {\r\n",
       "}\r\n",
       "comp usage \"vehicle: Vehicle \" as E4  <<(T,blue) part>> [[psysml:39223516-ad94-489d-bacf-dfdc85e50061 ]] {\r\n",
       "}\r\n",
       "comp usage \"w: Wheel \" as E5  <<(T,blue) part>> [[psysml:935907dd-edba-4df4-a9d8-52331cb3cfd8 ]] {\r\n",
       "}\r\n",
       "}\r\n",
       "package \"PackageVehicles2\" as E6  [[psysml:93b45f73-8145-4c51-859b-34a30a754a6e ]]  {\r\n",
       "comp def \"Vehicle\" as E7  <<(T,blue) part  def>> [[psysml:70e98285-320d-437d-a2cc-ec94b9ba1ba9 ]] {\r\n",
       "}\r\n",
       "comp def \"Wheel\" as E8  <<(T,blue) part  def>> [[psysml:2584180a-1880-4a2d-99c1-bf036e1f761a ]] {\r\n",
       "}\r\n",
       "comp usage \"vehicle: Vehicle \" as E9  <<(T,blue) part>> [[psysml:53900b81-085b-44ac-8118-bb6c21011ea8 ]] {\r\n",
       "}\r\n",
       "comp def \"Wheel\" as E10  <<(T,blue) part  def>> [[psysml:0df62347-24ab-4fb4-ad8b-c9bf8fbaeb8a ]] {\r\n",
       "}\r\n",
       "comp usage \"w: Wheel \" as E11  <<(T,blue) part>> [[psysml:67f34bc6-1563-4e05-b9f9-a2906e375717 ]] {\r\n",
       "}\r\n",
       "comp usage \"lb: Lugbolt \" as E12  <<(T,blue) part>> [[psysml:ef15bd13-e961-4eae-8a88-45e970d04364 ]] {\r\n",
       "}\r\n",
       "}\r\n",
       "E4 - -:|> E2 [[psysml:0910a38b-30b1-44ef-af3a-c6f47cc67fd6 ]] \r\n",
       "E4 *- - \"4\"E5 [[psysml:cd21b64c-b428-4856-92d9-02f98c460751 ]] \r\n",
       "E5 - -:|> E3 [[psysml:92991ec1-8b2a-4dc7-a58b-0934ba62656b ]] \r\n",
       "E9 - -:|> E7 [[psysml:c87a5057-34a5-4952-82ca-102591f20f2b ]] \r\n",
       "E9 +- - E10 [[psysml:818780ca-f104-4545-9fda-f7bb7c931b90 ]] \r\n",
       "E9 *- - \"4\"E11 [[psysml:5f788066-d62b-43c5-81a4-a1c0ffa33ca7 ]] \r\n",
       "E11 - -:|> E10 [[psysml:135bcdd6-5c60-4e0e-9133-f32af5c07074 ]] \r\n",
       "E11 *- - \"1\"E12 [[psysml:f9d7fccc-b201-4e5d-aa34-83245e0d3093 ]] \r\n",
       "@enduml\r\n",
       "\n",
       "PlantUML version 1.2020.13(Sat Jun 13 22:26:38 AEST 2020)\n",
       "(EPL source distribution)\n",
       "Java Runtime: OpenJDK Runtime Environment\n",
       "JVM: OpenJDK 64-Bit Server VM\n",
       "Default Encoding: UTF-8\n",
       "Language: en\n",
       "Country: AU\n",
       "--></g></svg>"
      ]
     },
     "execution_count": 5,
     "metadata": {},
     "output_type": "execute_result"
    }
   ],
   "source": [
    "%viz --view=tree PackageVehicles1 PackageVehicles2"
   ]
  },
  {
   "cell_type": "code",
   "execution_count": null,
   "metadata": {},
   "outputs": [],
   "source": []
  }
 ],
 "metadata": {
  "kernelspec": {
   "display_name": "SysML",
   "language": "sysml",
   "name": "sysml"
  },
  "language_info": {
   "codemirror_mode": "sysml",
   "file_extension": ".sysml",
   "mimetype": "text/x-sysml",
   "name": "SysML",
   "pygments_lexer": "java",
   "version": "1.0.0"
  }
 },
 "nbformat": 4,
 "nbformat_minor": 4
}
