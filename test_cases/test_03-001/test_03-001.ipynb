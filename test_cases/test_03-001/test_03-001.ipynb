{
 "cells": [
  {
   "cell_type": "code",
   "execution_count": 1,
   "metadata": {},
   "outputs": [
    {
     "data": {
      "text/plain": [
       "AttributeDefinition ModuleId (96519340-e9e7-451a-8a24-6f71d528a59e)\n",
       "Package PackageVehicles (d8d56651-d2ec-489c-b303-08d35d74c4bc)\n"
      ]
     },
     "execution_count": 1,
     "metadata": {},
     "output_type": "execute_result"
    }
   ],
   "source": [
    "// 'attribute def' within the sysml file scope, outside any packages\n",
    "attribute def ModuleId;\n",
    "\n",
    "package PackageVehicles {\n",
    "\n",
    "    // 'attribute def' within a top level package\n",
    "    attribute def PackageVehiclesID;\n",
    "\n",
    "    package VehicleAccessories {\n",
    "\n",
    "        // 'attribute def' within a nested package\n",
    "        attribute def AccessoryID;\n",
    "\n",
    "        package SeatCover {\n",
    "            // 'attribute def' within a second nested package-- no limit to possible nesting\n",
    "            attribute def SeatCoverColor;\n",
    "        }\n",
    "    }\n",
    "\n",
    "    part def Vehicle {\n",
    "        // 'attribute def' within 'part def'\n",
    "        attribute def Color;\n",
    "    }\n",
    "\n",
    "    part def Wheel;\n",
    "\n",
    "    part vehicle:Vehicle {\n",
    "        // 'attribute def' within 'part'\n",
    "        attribute def RegistrationNumber;\n",
    "        part w:Wheel[4];\n",
    "    }\n",
    "}"
   ]
  },
  {
   "cell_type": "code",
   "execution_count": 2,
   "metadata": {},
   "outputs": [
    {
     "data": {
      "image/svg+xml": [
       "<?xml version=\"1.0\" encoding=\"UTF-8\" standalone=\"no\"?><svg xmlns=\"http://www.w3.org/2000/svg\" xmlns:xlink=\"http://www.w3.org/1999/xlink\" contentScriptType=\"application/ecmascript\" contentStyleType=\"text/css\" height=\"413px\" preserveAspectRatio=\"none\" style=\"width:655px;height:413px;\" version=\"1.1\" viewBox=\"0 0 655 413\" width=\"655px\" zoomAndPan=\"magnify\"><defs/><g><!--MD5=[fbc87193dbaf4d95561dea2c320d4a47]\n",
       "cluster E1--><a href=\"psysml:90d6d739-0711-4ab7-b8af-1275fd32aedd\" target=\"_top\" title=\"psysml:90d6d739-0711-4ab7-b8af-1275fd32aedd\" xlink:actuate=\"onRequest\" xlink:href=\"psysml:90d6d739-0711-4ab7-b8af-1275fd32aedd\" xlink:show=\"new\" xlink:title=\"psysml:90d6d739-0711-4ab7-b8af-1275fd32aedd\" xlink:type=\"simple\"><polygon fill=\"#FFFFFF\" points=\"16,6,155,6,162,28.2969,633,28.2969,633,401,16,401,16,6\" style=\"stroke: #000000; stroke-width: 1.5;\"/><line style=\"stroke: #000000; stroke-width: 1.5;\" x1=\"16\" x2=\"162\" y1=\"28.2969\" y2=\"28.2969\"/><text fill=\"#000000\" font-family=\"sans-serif\" font-size=\"14\" font-weight=\"bold\" lengthAdjust=\"spacingAndGlyphs\" textLength=\"133\" x=\"20\" y=\"20.9951\">PackageVehicles</text></a><!--MD5=[d5e69f78d87373223dbae638b30a9c99]\n",
       "cluster E3--><a href=\"psysml:24113b3d-af8a-4ca3-8e18-30bbfacb7880\" target=\"_top\" title=\"psysml:24113b3d-af8a-4ca3-8e18-30bbfacb7880\" xlink:actuate=\"onRequest\" xlink:href=\"psysml:24113b3d-af8a-4ca3-8e18-30bbfacb7880\" xlink:show=\"new\" xlink:title=\"psysml:24113b3d-af8a-4ca3-8e18-30bbfacb7880\" xlink:type=\"simple\"><polygon fill=\"#FFFFFF\" points=\"316,49,477,49,484,71.2969,609,71.2969,609,213,316,213,316,49\" style=\"stroke: #000000; stroke-width: 1.5;\"/><line style=\"stroke: #000000; stroke-width: 1.5;\" x1=\"316\" x2=\"484\" y1=\"71.2969\" y2=\"71.2969\"/><text fill=\"#000000\" font-family=\"sans-serif\" font-size=\"14\" font-weight=\"bold\" lengthAdjust=\"spacingAndGlyphs\" textLength=\"155\" x=\"320\" y=\"63.9951\">VehicleAccessories</text></a><!--MD5=[de5ec2e2e8f62f467e546659f5068c88]\n",
       "cluster E5--><a href=\"psysml:34bc8441-9abd-4273-a0c3-14fbc2539373\" target=\"_top\" title=\"psysml:34bc8441-9abd-4273-a0c3-14fbc2539373\" xlink:actuate=\"onRequest\" xlink:href=\"psysml:34bc8441-9abd-4273-a0c3-14fbc2539373\" xlink:show=\"new\" xlink:title=\"psysml:34bc8441-9abd-4273-a0c3-14fbc2539373\" xlink:type=\"simple\"><polygon fill=\"#FFFFFF\" points=\"451,92,539,92,546,114.2969,585,114.2969,585,189,451,189,451,92\" style=\"stroke: #000000; stroke-width: 1.5;\"/><line style=\"stroke: #000000; stroke-width: 1.5;\" x1=\"451\" x2=\"546\" y1=\"114.2969\" y2=\"114.2969\"/><text fill=\"#000000\" font-family=\"sans-serif\" font-size=\"14\" font-weight=\"bold\" lengthAdjust=\"spacingAndGlyphs\" textLength=\"82\" x=\"455\" y=\"106.9951\">SeatCover</text></a><!--MD5=[b4997ac47864f28c2f74865a473b2911]\n",
       "class E2--><a href=\"psysml:b7f763da-1015-45ca-9f69-0609efd51a7c\" target=\"_top\" title=\"psysml:b7f763da-1015-45ca-9f69-0609efd51a7c\" xlink:actuate=\"onRequest\" xlink:href=\"psysml:b7f763da-1015-45ca-9f69-0609efd51a7c\" xlink:show=\"new\" xlink:title=\"psysml:b7f763da-1015-45ca-9f69-0609efd51a7c\" xlink:type=\"simple\"><rect fill=\"#FFFFFF\" height=\"45.9375\" id=\"E2\" style=\"stroke: #383838; stroke-width: 1.5;\" width=\"124\" x=\"173\" y=\"127\"/><text fill=\"#000000\" font-family=\"sans-serif\" font-size=\"12\" font-style=\"italic\" lengthAdjust=\"spacingAndGlyphs\" textLength=\"97\" x=\"186.5\" y=\"143.1387\">«attribute  def»</text><text fill=\"#000000\" font-family=\"sans-serif\" font-size=\"12\" lengthAdjust=\"spacingAndGlyphs\" textLength=\"118\" x=\"176\" y=\"157.1074\">PackageVehiclesID</text><line style=\"stroke: #383838; stroke-width: 1.5;\" x1=\"174\" x2=\"296\" y1=\"164.9375\" y2=\"164.9375\"/></a><!--MD5=[2156ba9850f5573cc1fc38a6a4b2f02b]\n",
       "class E7--><a href=\"psysml:f46f45fd-6052-4297-b571-5a96ee11f167\" target=\"_top\" title=\"psysml:f46f45fd-6052-4297-b571-5a96ee11f167\" xlink:actuate=\"onRequest\" xlink:href=\"psysml:f46f45fd-6052-4297-b571-5a96ee11f167\" xlink:show=\"new\" xlink:title=\"psysml:f46f45fd-6052-4297-b571-5a96ee11f167\" xlink:type=\"simple\"><rect fill=\"#FFFFFF\" height=\"45.9375\" id=\"E7\" style=\"stroke: #383838; stroke-width: 1.5;\" width=\"70\" x=\"39\" y=\"233\"/><text fill=\"#000000\" font-family=\"sans-serif\" font-size=\"12\" font-style=\"italic\" lengthAdjust=\"spacingAndGlyphs\" textLength=\"68\" x=\"40\" y=\"249.1387\">«part  def»</text><text fill=\"#000000\" font-family=\"sans-serif\" font-size=\"12\" lengthAdjust=\"spacingAndGlyphs\" textLength=\"45\" x=\"51.5\" y=\"263.1074\">Vehicle</text><line style=\"stroke: #383838; stroke-width: 1.5;\" x1=\"40\" x2=\"108\" y1=\"270.9375\" y2=\"270.9375\"/></a><!--MD5=[b9389687b975829384b498ac4b7476b2]\n",
       "class E8--><a href=\"psysml:fb8dad39-e151-4236-9785-1bd644b7d88c\" target=\"_top\" title=\"psysml:fb8dad39-e151-4236-9785-1bd644b7d88c\" xlink:actuate=\"onRequest\" xlink:href=\"psysml:fb8dad39-e151-4236-9785-1bd644b7d88c\" xlink:show=\"new\" xlink:title=\"psysml:fb8dad39-e151-4236-9785-1bd644b7d88c\" xlink:type=\"simple\"><rect fill=\"#FFFFFF\" height=\"45.9375\" id=\"E8\" style=\"stroke: #383838; stroke-width: 1.5;\" width=\"99\" x=\"32.5\" y=\"339\"/><text fill=\"#000000\" font-family=\"sans-serif\" font-size=\"12\" font-style=\"italic\" lengthAdjust=\"spacingAndGlyphs\" textLength=\"97\" x=\"33.5\" y=\"355.1387\">«attribute  def»</text><text fill=\"#000000\" font-family=\"sans-serif\" font-size=\"12\" lengthAdjust=\"spacingAndGlyphs\" textLength=\"32\" x=\"66\" y=\"369.1074\">Color</text><line style=\"stroke: #383838; stroke-width: 1.5;\" x1=\"33.5\" x2=\"130.5\" y1=\"376.9375\" y2=\"376.9375\"/></a><!--MD5=[fd4143e9d270a159db93a4ea2a975926]\n",
       "class E9--><a href=\"psysml:ed93d4ee-2b1c-46a2-8669-7ddcdfbf0124\" target=\"_top\" title=\"psysml:ed93d4ee-2b1c-46a2-8669-7ddcdfbf0124\" xlink:actuate=\"onRequest\" xlink:href=\"psysml:ed93d4ee-2b1c-46a2-8669-7ddcdfbf0124\" xlink:show=\"new\" xlink:title=\"psysml:ed93d4ee-2b1c-46a2-8669-7ddcdfbf0124\" xlink:type=\"simple\"><rect fill=\"#FFFFFF\" height=\"45.9375\" id=\"E9\" style=\"stroke: #383838; stroke-width: 1.5;\" width=\"70\" x=\"308\" y=\"339\"/><text fill=\"#000000\" font-family=\"sans-serif\" font-size=\"12\" font-style=\"italic\" lengthAdjust=\"spacingAndGlyphs\" textLength=\"68\" x=\"309\" y=\"355.1387\">«part  def»</text><text fill=\"#000000\" font-family=\"sans-serif\" font-size=\"12\" lengthAdjust=\"spacingAndGlyphs\" textLength=\"38\" x=\"324\" y=\"369.1074\">Wheel</text><line style=\"stroke: #383838; stroke-width: 1.5;\" x1=\"309\" x2=\"377\" y1=\"376.9375\" y2=\"376.9375\"/></a><!--MD5=[96f4274e9e20536e775497830990834d]\n",
       "class E10--><a href=\"psysml:34dcc8eb-744e-418f-83ef-3914a1dec595\" target=\"_top\" title=\"psysml:34dcc8eb-744e-418f-83ef-3914a1dec595\" xlink:actuate=\"onRequest\" xlink:href=\"psysml:34dcc8eb-744e-418f-83ef-3914a1dec595\" xlink:show=\"new\" xlink:title=\"psysml:34dcc8eb-744e-418f-83ef-3914a1dec595\" xlink:type=\"simple\"><rect fill=\"#FFFFFF\" height=\"45.9375\" id=\"E10\" rx=\"10\" ry=\"10\" style=\"stroke: #383838; stroke-width: 1.5;\" width=\"106\" x=\"32\" y=\"127\"/><text fill=\"#000000\" font-family=\"sans-serif\" font-size=\"12\" font-style=\"italic\" lengthAdjust=\"spacingAndGlyphs\" textLength=\"40\" x=\"65\" y=\"143.1387\">«part»</text><text fill=\"#000000\" font-family=\"sans-serif\" font-size=\"12\" lengthAdjust=\"spacingAndGlyphs\" textLength=\"96\" x=\"35\" y=\"157.1074\">vehicle: Vehicle</text><line style=\"stroke: #383838; stroke-width: 1.5;\" x1=\"33\" x2=\"137\" y1=\"164.9375\" y2=\"164.9375\"/></a><!--MD5=[1dd1bfd58a279cf63c5f349dbc8fc6a1]\n",
       "class E11--><a href=\"psysml:7f0091fa-3680-4598-baea-1c2058f558f5\" target=\"_top\" title=\"psysml:7f0091fa-3680-4598-baea-1c2058f558f5\" xlink:actuate=\"onRequest\" xlink:href=\"psysml:7f0091fa-3680-4598-baea-1c2058f558f5\" xlink:show=\"new\" xlink:title=\"psysml:7f0091fa-3680-4598-baea-1c2058f558f5\" xlink:type=\"simple\"><rect fill=\"#FFFFFF\" height=\"45.9375\" id=\"E11\" style=\"stroke: #383838; stroke-width: 1.5;\" width=\"131\" x=\"144.5\" y=\"233\"/><text fill=\"#000000\" font-family=\"sans-serif\" font-size=\"12\" font-style=\"italic\" lengthAdjust=\"spacingAndGlyphs\" textLength=\"97\" x=\"161.5\" y=\"249.1387\">«attribute  def»</text><text fill=\"#000000\" font-family=\"sans-serif\" font-size=\"12\" lengthAdjust=\"spacingAndGlyphs\" textLength=\"125\" x=\"147.5\" y=\"263.1074\">RegistrationNumber</text><line style=\"stroke: #383838; stroke-width: 1.5;\" x1=\"145.5\" x2=\"274.5\" y1=\"270.9375\" y2=\"270.9375\"/></a><!--MD5=[49a0ec8f00dab7302a31f22d0f0fe584]\n",
       "class E12--><a href=\"psysml:49fc4d44-5a48-41e8-a7ee-090cab8f34cb\" target=\"_top\" title=\"psysml:49fc4d44-5a48-41e8-a7ee-090cab8f34cb\" xlink:actuate=\"onRequest\" xlink:href=\"psysml:49fc4d44-5a48-41e8-a7ee-090cab8f34cb\" xlink:show=\"new\" xlink:title=\"psysml:49fc4d44-5a48-41e8-a7ee-090cab8f34cb\" xlink:type=\"simple\"><rect fill=\"#FFFFFF\" height=\"45.9375\" id=\"E12\" rx=\"10\" ry=\"10\" style=\"stroke: #383838; stroke-width: 1.5;\" width=\"65\" x=\"310.5\" y=\"233\"/><text fill=\"#000000\" font-family=\"sans-serif\" font-size=\"12\" font-style=\"italic\" lengthAdjust=\"spacingAndGlyphs\" textLength=\"40\" x=\"323\" y=\"249.1387\">«part»</text><text fill=\"#000000\" font-family=\"sans-serif\" font-size=\"12\" lengthAdjust=\"spacingAndGlyphs\" textLength=\"55\" x=\"313.5\" y=\"263.1074\">w: Wheel</text><line style=\"stroke: #383838; stroke-width: 1.5;\" x1=\"311.5\" x2=\"374.5\" y1=\"270.9375\" y2=\"270.9375\"/></a><!--MD5=[ebbe1d658d1005bcc118a6aa81145e00]\n",
       "class E4--><a href=\"psysml:b6470843-d9db-4e04-bad1-2ffefc9dc31a\" target=\"_top\" title=\"psysml:b6470843-d9db-4e04-bad1-2ffefc9dc31a\" xlink:actuate=\"onRequest\" xlink:href=\"psysml:b6470843-d9db-4e04-bad1-2ffefc9dc31a\" xlink:show=\"new\" xlink:title=\"psysml:b6470843-d9db-4e04-bad1-2ffefc9dc31a\" xlink:type=\"simple\"><rect fill=\"#FFFFFF\" height=\"45.9375\" id=\"E4\" style=\"stroke: #383838; stroke-width: 1.5;\" width=\"99\" x=\"332.5\" y=\"127\"/><text fill=\"#000000\" font-family=\"sans-serif\" font-size=\"12\" font-style=\"italic\" lengthAdjust=\"spacingAndGlyphs\" textLength=\"97\" x=\"333.5\" y=\"143.1387\">«attribute  def»</text><text fill=\"#000000\" font-family=\"sans-serif\" font-size=\"12\" lengthAdjust=\"spacingAndGlyphs\" textLength=\"75\" x=\"344.5\" y=\"157.1074\">AccessoryID</text><line style=\"stroke: #383838; stroke-width: 1.5;\" x1=\"333.5\" x2=\"430.5\" y1=\"164.9375\" y2=\"164.9375\"/></a><!--MD5=[60a26617385b1d2d0262a64233df1f8d]\n",
       "class E6--><a href=\"psysml:a9dff9e2-4447-4cce-97a2-c3378d863e2e\" target=\"_top\" title=\"psysml:a9dff9e2-4447-4cce-97a2-c3378d863e2e\" xlink:actuate=\"onRequest\" xlink:href=\"psysml:a9dff9e2-4447-4cce-97a2-c3378d863e2e\" xlink:show=\"new\" xlink:title=\"psysml:a9dff9e2-4447-4cce-97a2-c3378d863e2e\" xlink:type=\"simple\"><rect fill=\"#FFFFFF\" height=\"45.9375\" id=\"E6\" style=\"stroke: #383838; stroke-width: 1.5;\" width=\"102\" x=\"467\" y=\"127\"/><text fill=\"#000000\" font-family=\"sans-serif\" font-size=\"12\" font-style=\"italic\" lengthAdjust=\"spacingAndGlyphs\" textLength=\"97\" x=\"469.5\" y=\"143.1387\">«attribute  def»</text><text fill=\"#000000\" font-family=\"sans-serif\" font-size=\"12\" lengthAdjust=\"spacingAndGlyphs\" textLength=\"96\" x=\"470\" y=\"157.1074\">SeatCoverColor</text><line style=\"stroke: #383838; stroke-width: 1.5;\" x1=\"468\" x2=\"568\" y1=\"164.9375\" y2=\"164.9375\"/></a><!--MD5=[dc164f5e8a733ab456ef1add180e9e34]\n",
       "reverse link E7 to E8--><a href=\"psysml:287a9fe6-c9c0-4206-b097-08a56a01af4b\" target=\"_top\" title=\"psysml:287a9fe6-c9c0-4206-b097-08a56a01af4b\" xlink:actuate=\"onRequest\" xlink:href=\"psysml:287a9fe6-c9c0-4206-b097-08a56a01af4b\" xlink:show=\"new\" xlink:title=\"psysml:287a9fe6-c9c0-4206-b097-08a56a01af4b\" xlink:type=\"simple\"><path d=\"M76.87,294.34 C78.02,309.3 79.31,326.02 80.31,338.98 \" fill=\"none\" id=\"E7&lt;-E8\" style=\"stroke: #383838; stroke-width: 1.0;\"/><ellipse cx=\"76.3095\" cy=\"287.0367\" fill=\"#FFFFFF\" rx=\"8\" ry=\"8\" style=\"stroke: #383838; stroke-width: 1.0;\"/><line style=\"stroke: #383838; stroke-width: 1.0;\" x1=\"76.919\" x2=\"75.7\" y1=\"295.0135\" y2=\"279.06\"/><line style=\"stroke: #383838; stroke-width: 1.0;\" x1=\"68.3327\" x2=\"84.2862\" y1=\"287.6462\" y2=\"286.4273\"/></a><!--MD5=[a919e0967d6f3de553dc51b9865a1d6d]\n",
       "link E10 to E7--><a href=\"psysml:52febe35-6810-4b32-9751-890be28b9203\" target=\"_top\" title=\"psysml:52febe35-6810-4b32-9751-890be28b9203\" xlink:actuate=\"onRequest\" xlink:href=\"psysml:52febe35-6810-4b32-9751-890be28b9203\" xlink:show=\"new\" xlink:title=\"psysml:52febe35-6810-4b32-9751-890be28b9203\" xlink:type=\"simple\"><path d=\"M82.67,173.06 C81.44,184.64 79.9,199.23 78.46,212.87 \" fill=\"none\" id=\"E10-&gt;E7\" style=\"stroke: #383838; stroke-width: 1.0;\"/><polygon fill=\"#FFFFFF\" points=\"76.33,232.98,71.3641,213.3499,85.2867,214.8202,76.33,232.98\" style=\"stroke: #383838; stroke-width: 1.0;\"/><ellipse cx=\"73.9516\" cy=\"207.8915\" fill=\"#383838\" rx=\"2\" ry=\"2\" style=\"stroke: #383838; stroke-width: 1.0;\"/><ellipse cx=\"83.8963\" cy=\"208.9417\" fill=\"#383838\" rx=\"2\" ry=\"2\" style=\"stroke: #383838; stroke-width: 1.0;\"/></a><!--MD5=[de308be4a2431766a05a907a031c07fc]\n",
       "reverse link E10 to E11--><a href=\"psysml:3bb99695-34ff-4c82-b1cf-c3377b640d01\" target=\"_top\" title=\"psysml:3bb99695-34ff-4c82-b1cf-c3377b640d01\" xlink:actuate=\"onRequest\" xlink:href=\"psysml:3bb99695-34ff-4c82-b1cf-c3377b640d01\" xlink:show=\"new\" xlink:title=\"psysml:3bb99695-34ff-4c82-b1cf-c3377b640d01\" xlink:type=\"simple\"><path d=\"M115.77,184.24 C127.79,196.42 142.02,209.92 156,221 C161.21,225.13 166.94,229.19 172.67,232.99 \" fill=\"none\" id=\"E10&lt;-E11\" style=\"stroke: #383838; stroke-width: 1.0;\"/><ellipse cx=\"110.567\" cy=\"178.8449\" fill=\"#FFFFFF\" rx=\"8\" ry=\"8\" style=\"stroke: #383838; stroke-width: 1.0;\"/><line style=\"stroke: #383838; stroke-width: 1.0;\" x1=\"116.1241\" x2=\"105.01\" y1=\"184.5999\" y2=\"173.09\"/><line style=\"stroke: #383838; stroke-width: 1.0;\" x1=\"104.8121\" x2=\"116.322\" y1=\"184.402\" y2=\"173.2879\"/></a><!--MD5=[1d54f998c6d5961a1a9184be73a7eb6c]\n",
       "reverse link E10 to E12--><a href=\"psysml:70e17d02-7419-4b4b-9b3b-809112c3339b\" target=\"_top\" title=\"psysml:70e17d02-7419-4b4b-9b3b-809112c3339b\" xlink:actuate=\"onRequest\" xlink:href=\"psysml:70e17d02-7419-4b4b-9b3b-809112c3339b\" xlink:show=\"new\" xlink:title=\"psysml:70e17d02-7419-4b4b-9b3b-809112c3339b\" xlink:type=\"simple\"><path d=\"M109.27,183.52 C121.61,197.53 137.84,212.61 156,221 C211.49,246.64 233.79,217.82 293,233 C298.79,234.48 304.75,236.57 310.46,238.87 \" fill=\"none\" id=\"E10&lt;-E12\" style=\"stroke: #383838; stroke-width: 1.0;\"/><polygon fill=\"#383838\" points=\"100.62,173.13,101.3852,180.3004,108.2983,182.3519,107.5331,175.1815,100.62,173.13\" style=\"stroke: #383838; stroke-width: 1.0;\"/><text fill=\"#000000\" font-family=\"sans-serif\" font-size=\"13\" lengthAdjust=\"spacingAndGlyphs\" textLength=\"8\" x=\"294.4669\" y=\"230.5704\">4</text></a><!--MD5=[f2753cb1bd7aa79f0ce96d07caab051d]\n",
       "link E12 to E9--><a href=\"psysml:36305398-cc70-49dc-8a73-668ab2dadd97\" target=\"_top\" title=\"psysml:36305398-cc70-49dc-8a73-668ab2dadd97\" xlink:actuate=\"onRequest\" xlink:href=\"psysml:36305398-cc70-49dc-8a73-668ab2dadd97\" xlink:show=\"new\" xlink:title=\"psysml:36305398-cc70-49dc-8a73-668ab2dadd97\" xlink:type=\"simple\"><path d=\"M343,279.06 C343,290.64 343,305.23 343,318.87 \" fill=\"none\" id=\"E12-&gt;E9\" style=\"stroke: #383838; stroke-width: 1.0;\"/><polygon fill=\"#FFFFFF\" points=\"343,338.98,336,319.98,350,319.98,343,338.98\" style=\"stroke: #383838; stroke-width: 1.0;\"/><ellipse cx=\"338\" cy=\"314.28\" fill=\"#383838\" rx=\"2\" ry=\"2\" style=\"stroke: #383838; stroke-width: 1.0;\"/><ellipse cx=\"348\" cy=\"314.28\" fill=\"#383838\" rx=\"2\" ry=\"2\" style=\"stroke: #383838; stroke-width: 1.0;\"/></a><!--MD5=[bb91d5f3a62c59d92e63a59f4acbdd80]\n",
       "@startuml\r\n",
       "skinparam monochrome true\r\n",
       "skinparam classbackgroundcolor white\r\n",
       "skinparam shadowing false\r\n",
       "skinparam wrapWidth 300\r\n",
       "hide circle\r\n",
       "\r\n",
       "package \"PackageVehicles\" as E1  [[psysml:90d6d739-0711-4ab7-b8af-1275fd32aedd ]]  {\r\n",
       "comp def \"PackageVehiclesID\" as E2  <<(T,blue) attribute  def>> [[psysml:b7f763da-1015-45ca-9f69-0609efd51a7c ]] {\r\n",
       "}\r\n",
       "package \"VehicleAccessories\" as E3  [[psysml:24113b3d-af8a-4ca3-8e18-30bbfacb7880 ]]  {\r\n",
       "comp def \"AccessoryID\" as E4  <<(T,blue) attribute  def>> [[psysml:b6470843-d9db-4e04-bad1-2ffefc9dc31a ]] {\r\n",
       "}\r\n",
       "package \"SeatCover\" as E5  [[psysml:34bc8441-9abd-4273-a0c3-14fbc2539373 ]]  {\r\n",
       "comp def \"SeatCoverColor\" as E6  <<(T,blue) attribute  def>> [[psysml:a9dff9e2-4447-4cce-97a2-c3378d863e2e ]] {\r\n",
       "}\r\n",
       "}\r\n",
       "}\r\n",
       "comp def \"Vehicle\" as E7  <<(T,blue) part  def>> [[psysml:f46f45fd-6052-4297-b571-5a96ee11f167 ]] {\r\n",
       "}\r\n",
       "comp def \"Color\" as E8  <<(T,blue) attribute  def>> [[psysml:fb8dad39-e151-4236-9785-1bd644b7d88c ]] {\r\n",
       "}\r\n",
       "comp def \"Wheel\" as E9  <<(T,blue) part  def>> [[psysml:ed93d4ee-2b1c-46a2-8669-7ddcdfbf0124 ]] {\r\n",
       "}\r\n",
       "comp usage \"vehicle: Vehicle \" as E10  <<(T,blue) part>> [[psysml:34dcc8eb-744e-418f-83ef-3914a1dec595 ]] {\r\n",
       "}\r\n",
       "comp def \"RegistrationNumber\" as E11  <<(T,blue) attribute  def>> [[psysml:7f0091fa-3680-4598-baea-1c2058f558f5 ]] {\r\n",
       "}\r\n",
       "comp usage \"w: Wheel \" as E12  <<(T,blue) part>> [[psysml:49fc4d44-5a48-41e8-a7ee-090cab8f34cb ]] {\r\n",
       "}\r\n",
       "}\r\n",
       "E7 +- - E8 [[psysml:287a9fe6-c9c0-4206-b097-08a56a01af4b ]] \r\n",
       "E10 - -:|> E7 [[psysml:52febe35-6810-4b32-9751-890be28b9203 ]] \r\n",
       "E10 +- - E11 [[psysml:3bb99695-34ff-4c82-b1cf-c3377b640d01 ]] \r\n",
       "E10 *- - \"4\"E12 [[psysml:70e17d02-7419-4b4b-9b3b-809112c3339b ]] \r\n",
       "E12 - -:|> E9 [[psysml:36305398-cc70-49dc-8a73-668ab2dadd97 ]] \r\n",
       "@enduml\r\n",
       "\n",
       "PlantUML version 1.2020.13(Sat Jun 13 22:26:38 AEST 2020)\n",
       "(EPL source distribution)\n",
       "Java Runtime: OpenJDK Runtime Environment\n",
       "JVM: OpenJDK 64-Bit Server VM\n",
       "Default Encoding: UTF-8\n",
       "Language: en\n",
       "Country: AU\n",
       "--></g></svg>"
      ]
     },
     "execution_count": 2,
     "metadata": {},
     "output_type": "execute_result"
    }
   ],
   "source": [
    "%viz --view=tree PackageVehicles"
   ]
  },
  {
   "cell_type": "code",
   "execution_count": null,
   "metadata": {},
   "outputs": [],
   "source": []
  }
 ],
 "metadata": {
  "kernelspec": {
   "display_name": "SysML",
   "language": "sysml",
   "name": "sysml"
  },
  "language_info": {
   "codemirror_mode": "sysml",
   "file_extension": ".sysml",
   "mimetype": "text/x-sysml",
   "name": "SysML",
   "pygments_lexer": "java",
   "version": "1.0.0"
  }
 },
 "nbformat": 4,
 "nbformat_minor": 4
}
