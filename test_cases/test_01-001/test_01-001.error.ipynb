{
 "cells": [
  {
   "cell_type": "code",
   "execution_count": 1,
   "metadata": {},
   "outputs": [
    {
     "name": "stdout",
     "output_type": "stream",
     "text": [
      "WARNING:Duplicate owned member name (1.sysml line : 4 column : 14)\n",
      "WARNING:Duplicate owned member name (1.sysml line : 5 column : 10)\n"
     ]
    },
    {
     "data": {
      "text/plain": [
       "Package PackageVehicles (5521e22b-47cf-4dcb-ab54-5f0dbf5e0177)\n"
      ]
     },
     "execution_count": 1,
     "metadata": {},
     "output_type": "execute_result"
    }
   ],
   "source": [
    "package PackageVehicles {\n",
    "\n",
    "    part def Vehicle;\n",
    "    part def Wheel;\n",
    "    part Wheel;\n",
    "\n",
    "    part vehicle:Vehicle {\n",
    "        part w:Wheel;\n",
    "    }\n",
    "}"
   ]
  },
  {
   "cell_type": "code",
   "execution_count": 2,
   "metadata": {},
   "outputs": [
    {
     "data": {
      "image/svg+xml": [
       "<?xml version=\"1.0\" encoding=\"UTF-8\" standalone=\"no\"?><svg xmlns=\"http://www.w3.org/2000/svg\" xmlns:xlink=\"http://www.w3.org/1999/xlink\" contentScriptType=\"application/ecmascript\" contentStyleType=\"text/css\" height=\"327px\" preserveAspectRatio=\"none\" style=\"width:241px;height:327px;\" version=\"1.1\" viewBox=\"0 0 241 327\" width=\"241px\" zoomAndPan=\"magnify\"><defs/><g><!--MD5=[fbc87193dbaf4d95561dea2c320d4a47]\n",
       "cluster E1--><a href=\"psysml:9c78fa18-1444-4f4a-aaa0-d0f9e8a93349\" target=\"_top\" title=\"psysml:9c78fa18-1444-4f4a-aaa0-d0f9e8a93349\" xlink:actuate=\"onRequest\" xlink:href=\"psysml:9c78fa18-1444-4f4a-aaa0-d0f9e8a93349\" xlink:show=\"new\" xlink:title=\"psysml:9c78fa18-1444-4f4a-aaa0-d0f9e8a93349\" xlink:type=\"simple\"><polygon fill=\"#FFFFFF\" points=\"16,6,155,6,162,28.2969,219,28.2969,219,315,16,315,16,6\" style=\"stroke: #000000; stroke-width: 1.5;\"/><line style=\"stroke: #000000; stroke-width: 1.5;\" x1=\"16\" x2=\"162\" y1=\"28.2969\" y2=\"28.2969\"/><text fill=\"#000000\" font-family=\"sans-serif\" font-size=\"14\" font-weight=\"bold\" lengthAdjust=\"spacingAndGlyphs\" textLength=\"133\" x=\"20\" y=\"20.9951\">PackageVehicles</text></a><!--MD5=[b4997ac47864f28c2f74865a473b2911]\n",
       "class E2--><a href=\"psysml:8c687027-a6cd-49f3-8ce1-361df349f771\" target=\"_top\" title=\"psysml:8c687027-a6cd-49f3-8ce1-361df349f771\" xlink:actuate=\"onRequest\" xlink:href=\"psysml:8c687027-a6cd-49f3-8ce1-361df349f771\" xlink:show=\"new\" xlink:title=\"psysml:8c687027-a6cd-49f3-8ce1-361df349f771\" xlink:type=\"simple\"><rect fill=\"#FFFFFF\" height=\"45.9375\" id=\"E2\" style=\"stroke: #383838; stroke-width: 1.5;\" width=\"70\" x=\"32\" y=\"147\"/><text fill=\"#000000\" font-family=\"sans-serif\" font-size=\"12\" font-style=\"italic\" lengthAdjust=\"spacingAndGlyphs\" textLength=\"68\" x=\"33\" y=\"163.1387\">«part  def»</text><text fill=\"#000000\" font-family=\"sans-serif\" font-size=\"12\" lengthAdjust=\"spacingAndGlyphs\" textLength=\"45\" x=\"44.5\" y=\"177.1074\">Vehicle</text><line style=\"stroke: #383838; stroke-width: 1.5;\" x1=\"33\" x2=\"101\" y1=\"184.9375\" y2=\"184.9375\"/></a><!--MD5=[09b614a08d8cba4a07c9adeb5e0fee81]\n",
       "class E3--><a href=\"psysml:ee734c7c-614b-4b3f-9725-3f51dca0b1b9\" target=\"_top\" title=\"psysml:ee734c7c-614b-4b3f-9725-3f51dca0b1b9\" xlink:actuate=\"onRequest\" xlink:href=\"psysml:ee734c7c-614b-4b3f-9725-3f51dca0b1b9\" xlink:show=\"new\" xlink:title=\"psysml:ee734c7c-614b-4b3f-9725-3f51dca0b1b9\" xlink:type=\"simple\"><rect fill=\"#FFFFFF\" height=\"45.9375\" id=\"E3\" style=\"stroke: #383838; stroke-width: 1.5;\" width=\"70\" x=\"133\" y=\"253\"/><text fill=\"#000000\" font-family=\"sans-serif\" font-size=\"12\" font-style=\"italic\" lengthAdjust=\"spacingAndGlyphs\" textLength=\"68\" x=\"134\" y=\"269.1387\">«part  def»</text><text fill=\"#000000\" font-family=\"sans-serif\" font-size=\"12\" lengthAdjust=\"spacingAndGlyphs\" textLength=\"38\" x=\"149\" y=\"283.1074\">Wheel</text><line style=\"stroke: #383838; stroke-width: 1.5;\" x1=\"134\" x2=\"202\" y1=\"290.9375\" y2=\"290.9375\"/></a><!--MD5=[ebbe1d658d1005bcc118a6aa81145e00]\n",
       "class E4--><a href=\"psysml:4480ce66-ddb4-4e49-a02e-5b09a6ee02c6\" target=\"_top\" title=\"psysml:4480ce66-ddb4-4e49-a02e-5b09a6ee02c6\" xlink:actuate=\"onRequest\" xlink:href=\"psysml:4480ce66-ddb4-4e49-a02e-5b09a6ee02c6\" xlink:show=\"new\" xlink:title=\"psysml:4480ce66-ddb4-4e49-a02e-5b09a6ee02c6\" xlink:type=\"simple\"><rect fill=\"#FFFFFF\" height=\"45.9375\" id=\"E4\" rx=\"10\" ry=\"10\" style=\"stroke: #383838; stroke-width: 1.5;\" width=\"106\" x=\"64\" y=\"41\"/><text fill=\"#000000\" font-family=\"sans-serif\" font-size=\"12\" font-style=\"italic\" lengthAdjust=\"spacingAndGlyphs\" textLength=\"40\" x=\"97\" y=\"57.1387\">«part»</text><text fill=\"#000000\" font-family=\"sans-serif\" font-size=\"12\" lengthAdjust=\"spacingAndGlyphs\" textLength=\"96\" x=\"67\" y=\"71.1074\">vehicle: Vehicle</text><line style=\"stroke: #383838; stroke-width: 1.5;\" x1=\"65\" x2=\"169\" y1=\"78.9375\" y2=\"78.9375\"/></a><!--MD5=[270fce915f116d4de14055a7c1d9a0f3]\n",
       "class E5--><a href=\"psysml:2e0d30e8-d151-49da-b3f9-5051c684217e\" target=\"_top\" title=\"psysml:2e0d30e8-d151-49da-b3f9-5051c684217e\" xlink:actuate=\"onRequest\" xlink:href=\"psysml:2e0d30e8-d151-49da-b3f9-5051c684217e\" xlink:show=\"new\" xlink:title=\"psysml:2e0d30e8-d151-49da-b3f9-5051c684217e\" xlink:type=\"simple\"><rect fill=\"#FFFFFF\" height=\"45.9375\" id=\"E5\" rx=\"10\" ry=\"10\" style=\"stroke: #383838; stroke-width: 1.5;\" width=\"65\" x=\"137.5\" y=\"147\"/><text fill=\"#000000\" font-family=\"sans-serif\" font-size=\"12\" font-style=\"italic\" lengthAdjust=\"spacingAndGlyphs\" textLength=\"40\" x=\"150\" y=\"163.1387\">«part»</text><text fill=\"#000000\" font-family=\"sans-serif\" font-size=\"12\" lengthAdjust=\"spacingAndGlyphs\" textLength=\"55\" x=\"140.5\" y=\"177.1074\">w: Wheel</text><line style=\"stroke: #383838; stroke-width: 1.5;\" x1=\"138.5\" x2=\"201.5\" y1=\"184.9375\" y2=\"184.9375\"/></a><!--MD5=[185131fc0dcab0a4505a2ebe144e961b]\n",
       "link E4 to E2--><a href=\"psysml:999d98bc-f74f-4113-bf09-2d9711e0cd84\" target=\"_top\" title=\"psysml:999d98bc-f74f-4113-bf09-2d9711e0cd84\" xlink:actuate=\"onRequest\" xlink:href=\"psysml:999d98bc-f74f-4113-bf09-2d9711e0cd84\" xlink:show=\"new\" xlink:title=\"psysml:999d98bc-f74f-4113-bf09-2d9711e0cd84\" xlink:type=\"simple\"><path d=\"M106.4,87.06 C100.56,99.19 93.14,114.62 86.32,128.82 \" fill=\"none\" id=\"E4-&gt;E2\" style=\"stroke: #383838; stroke-width: 1.0;\"/><polygon fill=\"#FFFFFF\" points=\"77.59,146.98,79.5106,126.8228,92.1291,132.8869,77.59,146.98\" style=\"stroke: #383838; stroke-width: 1.0;\"/><ellipse cx=\"83.7822\" cy=\"122.5516\" fill=\"#383838\" rx=\"2\" ry=\"2\" style=\"stroke: #383838; stroke-width: 1.0;\"/><ellipse cx=\"92.7954\" cy=\"126.8831\" fill=\"#383838\" rx=\"2\" ry=\"2\" style=\"stroke: #383838; stroke-width: 1.0;\"/></a><!--MD5=[62aa6af11e70f752912c1cb0466f24f7]\n",
       "reverse link E4 to E5--><a href=\"psysml:085ceb5b-c4ba-44f8-8a81-4418dcbb9aa6\" target=\"_top\" title=\"psysml:085ceb5b-c4ba-44f8-8a81-4418dcbb9aa6\" xlink:actuate=\"onRequest\" xlink:href=\"psysml:085ceb5b-c4ba-44f8-8a81-4418dcbb9aa6\" xlink:show=\"new\" xlink:title=\"psysml:085ceb5b-c4ba-44f8-8a81-4418dcbb9aa6\" xlink:type=\"simple\"><path d=\"M134.34,99.03 C142.37,114.78 151.68,133.06 158.78,146.98 \" fill=\"none\" id=\"E4&lt;-E5\" style=\"stroke: #383838; stroke-width: 1.0;\"/><polygon fill=\"#383838\" points=\"128.24,87.06,127.3983,94.2218,133.6855,97.7533,134.5272,90.5915,128.24,87.06\" style=\"stroke: #383838; stroke-width: 1.0;\"/><text fill=\"#000000\" font-family=\"sans-serif\" font-size=\"13\" lengthAdjust=\"spacingAndGlyphs\" textLength=\"8\" x=\"146.6896\" y=\"135.8709\">1</text></a><!--MD5=[e9be52314489bd878ff4c7144b63c9e1]\n",
       "link E5 to E3--><a href=\"psysml:997b746b-772c-430a-910b-e39e21871a1b\" target=\"_top\" title=\"psysml:997b746b-772c-430a-910b-e39e21871a1b\" xlink:actuate=\"onRequest\" xlink:href=\"psysml:997b746b-772c-430a-910b-e39e21871a1b\" xlink:show=\"new\" xlink:title=\"psysml:997b746b-772c-430a-910b-e39e21871a1b\" xlink:type=\"simple\"><path d=\"M169.58,193.06 C169.35,204.64 169.07,219.23 168.81,232.87 \" fill=\"none\" id=\"E5-&gt;E3\" style=\"stroke: #383838; stroke-width: 1.0;\"/><polygon fill=\"#FFFFFF\" points=\"168.42,252.98,161.774,233.8533,175.7716,234.1133,168.42,252.98\" style=\"stroke: #383838; stroke-width: 1.0;\"/><ellipse cx=\"163.8795\" cy=\"228.1914\" fill=\"#383838\" rx=\"2\" ry=\"2\" style=\"stroke: #383838; stroke-width: 1.0;\"/><ellipse cx=\"173.8778\" cy=\"228.3771\" fill=\"#383838\" rx=\"2\" ry=\"2\" style=\"stroke: #383838; stroke-width: 1.0;\"/></a><!--MD5=[87a844af5c07970659a984e3580e719c]\n",
       "@startuml\r\n",
       "skinparam monochrome true\r\n",
       "skinparam classbackgroundcolor white\r\n",
       "skinparam shadowing false\r\n",
       "skinparam wrapWidth 300\r\n",
       "hide circle\r\n",
       "\r\n",
       "package \"PackageVehicles\" as E1  [[psysml:9c78fa18-1444-4f4a-aaa0-d0f9e8a93349 ]]  {\r\n",
       "comp def \"Vehicle\" as E2  <<(T,blue) part  def>> [[psysml:8c687027-a6cd-49f3-8ce1-361df349f771 ]] {\r\n",
       "}\r\n",
       "comp def \"Wheel\" as E3  <<(T,blue) part  def>> [[psysml:ee734c7c-614b-4b3f-9725-3f51dca0b1b9 ]] {\r\n",
       "}\r\n",
       "comp usage \"vehicle: Vehicle \" as E4  <<(T,blue) part>> [[psysml:4480ce66-ddb4-4e49-a02e-5b09a6ee02c6 ]] {\r\n",
       "}\r\n",
       "comp usage \"w: Wheel \" as E5  <<(T,blue) part>> [[psysml:2e0d30e8-d151-49da-b3f9-5051c684217e ]] {\r\n",
       "}\r\n",
       "}\r\n",
       "E4 - -:|> E2 [[psysml:999d98bc-f74f-4113-bf09-2d9711e0cd84 ]] \r\n",
       "E4 *- - \"1\"E5 [[psysml:085ceb5b-c4ba-44f8-8a81-4418dcbb9aa6 ]] \r\n",
       "E5 - -:|> E3 [[psysml:997b746b-772c-430a-910b-e39e21871a1b ]] \r\n",
       "@enduml\r\n",
       "\n",
       "PlantUML version 1.2020.13(Sat Jun 13 22:26:38 AEST 2020)\n",
       "(EPL source distribution)\n",
       "Java Runtime: OpenJDK Runtime Environment\n",
       "JVM: OpenJDK 64-Bit Server VM\n",
       "Default Encoding: UTF-8\n",
       "Language: en\n",
       "Country: AU\n",
       "--></g></svg>"
      ]
     },
     "execution_count": 2,
     "metadata": {},
     "output_type": "execute_result"
    }
   ],
   "source": [
    "%viz --view=tree PackageVehicles"
   ]
  },
  {
   "cell_type": "code",
   "execution_count": null,
   "metadata": {},
   "outputs": [],
   "source": []
  }
 ],
 "metadata": {
  "kernelspec": {
   "display_name": "SysML",
   "language": "sysml",
   "name": "sysml"
  },
  "language_info": {
   "codemirror_mode": "sysml",
   "file_extension": ".sysml",
   "mimetype": "text/x-sysml",
   "name": "SysML",
   "pygments_lexer": "java",
   "version": "1.0.0"
  }
 },
 "nbformat": 4,
 "nbformat_minor": 4
}
