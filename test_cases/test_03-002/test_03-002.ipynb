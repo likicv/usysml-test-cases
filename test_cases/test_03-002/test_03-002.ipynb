{
 "cells": [
  {
   "cell_type": "code",
   "execution_count": 5,
   "metadata": {},
   "outputs": [
    {
     "data": {
      "text/plain": [
       "Package PackageVehicles (10ab2cb5-e43d-4d21-adfd-3b4ad68bd65d)\n"
      ]
     },
     "execution_count": 5,
     "metadata": {},
     "output_type": "execute_result"
    }
   ],
   "source": [
    "package PackageVehicles {\n",
    "\n",
    "    attribute def PackageVehiclesID;\n",
    "\n",
    "    package VehicleAccessories {\n",
    "\n",
    "        attribute def AccessoryID;\n",
    "\n",
    "        package SeatCover {\n",
    "            attribute def SeatCoverColor;\n",
    "        }\n",
    "    }\n",
    "\n",
    "    part def Vehicle {\n",
    "        attribute def Color;\n",
    "    }\n",
    "\n",
    "    part def Wheel;\n",
    "\n",
    "    part vehicle:Vehicle {\n",
    "        attribute def RegistrationNumber;\n",
    "        part w:Wheel[4];\n",
    "    }\n",
    "}"
   ]
  },
  {
   "cell_type": "code",
   "execution_count": 3,
   "metadata": {},
   "outputs": [
    {
     "data": {
      "image/svg+xml": [
       "<?xml version=\"1.0\" encoding=\"UTF-8\" standalone=\"no\"?><svg xmlns=\"http://www.w3.org/2000/svg\" xmlns:xlink=\"http://www.w3.org/1999/xlink\" contentScriptType=\"application/ecmascript\" contentStyleType=\"text/css\" height=\"413px\" preserveAspectRatio=\"none\" style=\"width:655px;height:413px;\" version=\"1.1\" viewBox=\"0 0 655 413\" width=\"655px\" zoomAndPan=\"magnify\"><defs/><g><!--MD5=[fbc87193dbaf4d95561dea2c320d4a47]\n",
       "cluster E1--><a href=\"psysml:28024022-79c1-4a5a-bdaf-482d67c38692\" target=\"_top\" title=\"psysml:28024022-79c1-4a5a-bdaf-482d67c38692\" xlink:actuate=\"onRequest\" xlink:href=\"psysml:28024022-79c1-4a5a-bdaf-482d67c38692\" xlink:show=\"new\" xlink:title=\"psysml:28024022-79c1-4a5a-bdaf-482d67c38692\" xlink:type=\"simple\"><polygon fill=\"#FFFFFF\" points=\"16,6,155,6,162,28.2969,633,28.2969,633,401,16,401,16,6\" style=\"stroke: #000000; stroke-width: 1.5;\"/><line style=\"stroke: #000000; stroke-width: 1.5;\" x1=\"16\" x2=\"162\" y1=\"28.2969\" y2=\"28.2969\"/><text fill=\"#000000\" font-family=\"sans-serif\" font-size=\"14\" font-weight=\"bold\" lengthAdjust=\"spacingAndGlyphs\" textLength=\"133\" x=\"20\" y=\"20.9951\">PackageVehicles</text></a><!--MD5=[d5e69f78d87373223dbae638b30a9c99]\n",
       "cluster E3--><a href=\"psysml:410cf12e-f9e1-40ff-a7df-a8fb13f844d0\" target=\"_top\" title=\"psysml:410cf12e-f9e1-40ff-a7df-a8fb13f844d0\" xlink:actuate=\"onRequest\" xlink:href=\"psysml:410cf12e-f9e1-40ff-a7df-a8fb13f844d0\" xlink:show=\"new\" xlink:title=\"psysml:410cf12e-f9e1-40ff-a7df-a8fb13f844d0\" xlink:type=\"simple\"><polygon fill=\"#FFFFFF\" points=\"316,49,477,49,484,71.2969,609,71.2969,609,213,316,213,316,49\" style=\"stroke: #000000; stroke-width: 1.5;\"/><line style=\"stroke: #000000; stroke-width: 1.5;\" x1=\"316\" x2=\"484\" y1=\"71.2969\" y2=\"71.2969\"/><text fill=\"#000000\" font-family=\"sans-serif\" font-size=\"14\" font-weight=\"bold\" lengthAdjust=\"spacingAndGlyphs\" textLength=\"155\" x=\"320\" y=\"63.9951\">VehicleAccessories</text></a><!--MD5=[de5ec2e2e8f62f467e546659f5068c88]\n",
       "cluster E5--><a href=\"psysml:1ef0eec1-472a-4a08-b4d4-c1c491ad7ac2\" target=\"_top\" title=\"psysml:1ef0eec1-472a-4a08-b4d4-c1c491ad7ac2\" xlink:actuate=\"onRequest\" xlink:href=\"psysml:1ef0eec1-472a-4a08-b4d4-c1c491ad7ac2\" xlink:show=\"new\" xlink:title=\"psysml:1ef0eec1-472a-4a08-b4d4-c1c491ad7ac2\" xlink:type=\"simple\"><polygon fill=\"#FFFFFF\" points=\"451,92,539,92,546,114.2969,585,114.2969,585,189,451,189,451,92\" style=\"stroke: #000000; stroke-width: 1.5;\"/><line style=\"stroke: #000000; stroke-width: 1.5;\" x1=\"451\" x2=\"546\" y1=\"114.2969\" y2=\"114.2969\"/><text fill=\"#000000\" font-family=\"sans-serif\" font-size=\"14\" font-weight=\"bold\" lengthAdjust=\"spacingAndGlyphs\" textLength=\"82\" x=\"455\" y=\"106.9951\">SeatCover</text></a><!--MD5=[b4997ac47864f28c2f74865a473b2911]\n",
       "class E2--><a href=\"psysml:2d3c1a57-c171-4c81-a4d4-acdf4cbf78f4\" target=\"_top\" title=\"psysml:2d3c1a57-c171-4c81-a4d4-acdf4cbf78f4\" xlink:actuate=\"onRequest\" xlink:href=\"psysml:2d3c1a57-c171-4c81-a4d4-acdf4cbf78f4\" xlink:show=\"new\" xlink:title=\"psysml:2d3c1a57-c171-4c81-a4d4-acdf4cbf78f4\" xlink:type=\"simple\"><rect fill=\"#FFFFFF\" height=\"45.9375\" id=\"E2\" style=\"stroke: #383838; stroke-width: 1.5;\" width=\"124\" x=\"173\" y=\"127\"/><text fill=\"#000000\" font-family=\"sans-serif\" font-size=\"12\" font-style=\"italic\" lengthAdjust=\"spacingAndGlyphs\" textLength=\"97\" x=\"186.5\" y=\"143.1387\">«attribute  def»</text><text fill=\"#000000\" font-family=\"sans-serif\" font-size=\"12\" lengthAdjust=\"spacingAndGlyphs\" textLength=\"118\" x=\"176\" y=\"157.1074\">PackageVehiclesID</text><line style=\"stroke: #383838; stroke-width: 1.5;\" x1=\"174\" x2=\"296\" y1=\"164.9375\" y2=\"164.9375\"/></a><!--MD5=[2156ba9850f5573cc1fc38a6a4b2f02b]\n",
       "class E7--><a href=\"psysml:ceb9c9ee-077d-4a2b-80ff-0193b006616b\" target=\"_top\" title=\"psysml:ceb9c9ee-077d-4a2b-80ff-0193b006616b\" xlink:actuate=\"onRequest\" xlink:href=\"psysml:ceb9c9ee-077d-4a2b-80ff-0193b006616b\" xlink:show=\"new\" xlink:title=\"psysml:ceb9c9ee-077d-4a2b-80ff-0193b006616b\" xlink:type=\"simple\"><rect fill=\"#FFFFFF\" height=\"45.9375\" id=\"E7\" style=\"stroke: #383838; stroke-width: 1.5;\" width=\"70\" x=\"39\" y=\"233\"/><text fill=\"#000000\" font-family=\"sans-serif\" font-size=\"12\" font-style=\"italic\" lengthAdjust=\"spacingAndGlyphs\" textLength=\"68\" x=\"40\" y=\"249.1387\">«part  def»</text><text fill=\"#000000\" font-family=\"sans-serif\" font-size=\"12\" lengthAdjust=\"spacingAndGlyphs\" textLength=\"45\" x=\"51.5\" y=\"263.1074\">Vehicle</text><line style=\"stroke: #383838; stroke-width: 1.5;\" x1=\"40\" x2=\"108\" y1=\"270.9375\" y2=\"270.9375\"/></a><!--MD5=[b9389687b975829384b498ac4b7476b2]\n",
       "class E8--><a href=\"psysml:e250169c-4374-4af6-9da2-effccdf57f92\" target=\"_top\" title=\"psysml:e250169c-4374-4af6-9da2-effccdf57f92\" xlink:actuate=\"onRequest\" xlink:href=\"psysml:e250169c-4374-4af6-9da2-effccdf57f92\" xlink:show=\"new\" xlink:title=\"psysml:e250169c-4374-4af6-9da2-effccdf57f92\" xlink:type=\"simple\"><rect fill=\"#FFFFFF\" height=\"45.9375\" id=\"E8\" style=\"stroke: #383838; stroke-width: 1.5;\" width=\"99\" x=\"32.5\" y=\"339\"/><text fill=\"#000000\" font-family=\"sans-serif\" font-size=\"12\" font-style=\"italic\" lengthAdjust=\"spacingAndGlyphs\" textLength=\"97\" x=\"33.5\" y=\"355.1387\">«attribute  def»</text><text fill=\"#000000\" font-family=\"sans-serif\" font-size=\"12\" lengthAdjust=\"spacingAndGlyphs\" textLength=\"32\" x=\"66\" y=\"369.1074\">Color</text><line style=\"stroke: #383838; stroke-width: 1.5;\" x1=\"33.5\" x2=\"130.5\" y1=\"376.9375\" y2=\"376.9375\"/></a><!--MD5=[fd4143e9d270a159db93a4ea2a975926]\n",
       "class E9--><a href=\"psysml:a384b8b9-1578-4dc4-ba49-2926a3fbc217\" target=\"_top\" title=\"psysml:a384b8b9-1578-4dc4-ba49-2926a3fbc217\" xlink:actuate=\"onRequest\" xlink:href=\"psysml:a384b8b9-1578-4dc4-ba49-2926a3fbc217\" xlink:show=\"new\" xlink:title=\"psysml:a384b8b9-1578-4dc4-ba49-2926a3fbc217\" xlink:type=\"simple\"><rect fill=\"#FFFFFF\" height=\"45.9375\" id=\"E9\" style=\"stroke: #383838; stroke-width: 1.5;\" width=\"70\" x=\"308\" y=\"339\"/><text fill=\"#000000\" font-family=\"sans-serif\" font-size=\"12\" font-style=\"italic\" lengthAdjust=\"spacingAndGlyphs\" textLength=\"68\" x=\"309\" y=\"355.1387\">«part  def»</text><text fill=\"#000000\" font-family=\"sans-serif\" font-size=\"12\" lengthAdjust=\"spacingAndGlyphs\" textLength=\"38\" x=\"324\" y=\"369.1074\">Wheel</text><line style=\"stroke: #383838; stroke-width: 1.5;\" x1=\"309\" x2=\"377\" y1=\"376.9375\" y2=\"376.9375\"/></a><!--MD5=[96f4274e9e20536e775497830990834d]\n",
       "class E10--><a href=\"psysml:c09392d7-5169-4cea-bad1-481ed6814d70\" target=\"_top\" title=\"psysml:c09392d7-5169-4cea-bad1-481ed6814d70\" xlink:actuate=\"onRequest\" xlink:href=\"psysml:c09392d7-5169-4cea-bad1-481ed6814d70\" xlink:show=\"new\" xlink:title=\"psysml:c09392d7-5169-4cea-bad1-481ed6814d70\" xlink:type=\"simple\"><rect fill=\"#FFFFFF\" height=\"45.9375\" id=\"E10\" rx=\"10\" ry=\"10\" style=\"stroke: #383838; stroke-width: 1.5;\" width=\"106\" x=\"32\" y=\"127\"/><text fill=\"#000000\" font-family=\"sans-serif\" font-size=\"12\" font-style=\"italic\" lengthAdjust=\"spacingAndGlyphs\" textLength=\"40\" x=\"65\" y=\"143.1387\">«part»</text><text fill=\"#000000\" font-family=\"sans-serif\" font-size=\"12\" lengthAdjust=\"spacingAndGlyphs\" textLength=\"96\" x=\"35\" y=\"157.1074\">vehicle: Vehicle</text><line style=\"stroke: #383838; stroke-width: 1.5;\" x1=\"33\" x2=\"137\" y1=\"164.9375\" y2=\"164.9375\"/></a><!--MD5=[1dd1bfd58a279cf63c5f349dbc8fc6a1]\n",
       "class E11--><a href=\"psysml:f6742681-9e52-4482-af8c-f30d6479f85e\" target=\"_top\" title=\"psysml:f6742681-9e52-4482-af8c-f30d6479f85e\" xlink:actuate=\"onRequest\" xlink:href=\"psysml:f6742681-9e52-4482-af8c-f30d6479f85e\" xlink:show=\"new\" xlink:title=\"psysml:f6742681-9e52-4482-af8c-f30d6479f85e\" xlink:type=\"simple\"><rect fill=\"#FFFFFF\" height=\"45.9375\" id=\"E11\" style=\"stroke: #383838; stroke-width: 1.5;\" width=\"131\" x=\"144.5\" y=\"233\"/><text fill=\"#000000\" font-family=\"sans-serif\" font-size=\"12\" font-style=\"italic\" lengthAdjust=\"spacingAndGlyphs\" textLength=\"97\" x=\"161.5\" y=\"249.1387\">«attribute  def»</text><text fill=\"#000000\" font-family=\"sans-serif\" font-size=\"12\" lengthAdjust=\"spacingAndGlyphs\" textLength=\"125\" x=\"147.5\" y=\"263.1074\">RegistrationNumber</text><line style=\"stroke: #383838; stroke-width: 1.5;\" x1=\"145.5\" x2=\"274.5\" y1=\"270.9375\" y2=\"270.9375\"/></a><!--MD5=[49a0ec8f00dab7302a31f22d0f0fe584]\n",
       "class E12--><a href=\"psysml:efb45fcc-5475-480a-a1d4-1587746c202c\" target=\"_top\" title=\"psysml:efb45fcc-5475-480a-a1d4-1587746c202c\" xlink:actuate=\"onRequest\" xlink:href=\"psysml:efb45fcc-5475-480a-a1d4-1587746c202c\" xlink:show=\"new\" xlink:title=\"psysml:efb45fcc-5475-480a-a1d4-1587746c202c\" xlink:type=\"simple\"><rect fill=\"#FFFFFF\" height=\"45.9375\" id=\"E12\" rx=\"10\" ry=\"10\" style=\"stroke: #383838; stroke-width: 1.5;\" width=\"65\" x=\"310.5\" y=\"233\"/><text fill=\"#000000\" font-family=\"sans-serif\" font-size=\"12\" font-style=\"italic\" lengthAdjust=\"spacingAndGlyphs\" textLength=\"40\" x=\"323\" y=\"249.1387\">«part»</text><text fill=\"#000000\" font-family=\"sans-serif\" font-size=\"12\" lengthAdjust=\"spacingAndGlyphs\" textLength=\"55\" x=\"313.5\" y=\"263.1074\">w: Wheel</text><line style=\"stroke: #383838; stroke-width: 1.5;\" x1=\"311.5\" x2=\"374.5\" y1=\"270.9375\" y2=\"270.9375\"/></a><!--MD5=[ebbe1d658d1005bcc118a6aa81145e00]\n",
       "class E4--><a href=\"psysml:210cea08-b33d-4219-95d8-2e7b68c9c919\" target=\"_top\" title=\"psysml:210cea08-b33d-4219-95d8-2e7b68c9c919\" xlink:actuate=\"onRequest\" xlink:href=\"psysml:210cea08-b33d-4219-95d8-2e7b68c9c919\" xlink:show=\"new\" xlink:title=\"psysml:210cea08-b33d-4219-95d8-2e7b68c9c919\" xlink:type=\"simple\"><rect fill=\"#FFFFFF\" height=\"45.9375\" id=\"E4\" style=\"stroke: #383838; stroke-width: 1.5;\" width=\"99\" x=\"332.5\" y=\"127\"/><text fill=\"#000000\" font-family=\"sans-serif\" font-size=\"12\" font-style=\"italic\" lengthAdjust=\"spacingAndGlyphs\" textLength=\"97\" x=\"333.5\" y=\"143.1387\">«attribute  def»</text><text fill=\"#000000\" font-family=\"sans-serif\" font-size=\"12\" lengthAdjust=\"spacingAndGlyphs\" textLength=\"75\" x=\"344.5\" y=\"157.1074\">AccessoryID</text><line style=\"stroke: #383838; stroke-width: 1.5;\" x1=\"333.5\" x2=\"430.5\" y1=\"164.9375\" y2=\"164.9375\"/></a><!--MD5=[60a26617385b1d2d0262a64233df1f8d]\n",
       "class E6--><a href=\"psysml:4d2b633a-6127-49d6-823c-3ef4fb792f3d\" target=\"_top\" title=\"psysml:4d2b633a-6127-49d6-823c-3ef4fb792f3d\" xlink:actuate=\"onRequest\" xlink:href=\"psysml:4d2b633a-6127-49d6-823c-3ef4fb792f3d\" xlink:show=\"new\" xlink:title=\"psysml:4d2b633a-6127-49d6-823c-3ef4fb792f3d\" xlink:type=\"simple\"><rect fill=\"#FFFFFF\" height=\"45.9375\" id=\"E6\" style=\"stroke: #383838; stroke-width: 1.5;\" width=\"102\" x=\"467\" y=\"127\"/><text fill=\"#000000\" font-family=\"sans-serif\" font-size=\"12\" font-style=\"italic\" lengthAdjust=\"spacingAndGlyphs\" textLength=\"97\" x=\"469.5\" y=\"143.1387\">«attribute  def»</text><text fill=\"#000000\" font-family=\"sans-serif\" font-size=\"12\" lengthAdjust=\"spacingAndGlyphs\" textLength=\"96\" x=\"470\" y=\"157.1074\">SeatCoverColor</text><line style=\"stroke: #383838; stroke-width: 1.5;\" x1=\"468\" x2=\"568\" y1=\"164.9375\" y2=\"164.9375\"/></a><!--MD5=[dc164f5e8a733ab456ef1add180e9e34]\n",
       "reverse link E7 to E8--><a href=\"psysml:72ac30e2-385c-4f69-9a96-1ef875933d33\" target=\"_top\" title=\"psysml:72ac30e2-385c-4f69-9a96-1ef875933d33\" xlink:actuate=\"onRequest\" xlink:href=\"psysml:72ac30e2-385c-4f69-9a96-1ef875933d33\" xlink:show=\"new\" xlink:title=\"psysml:72ac30e2-385c-4f69-9a96-1ef875933d33\" xlink:type=\"simple\"><path d=\"M76.87,294.34 C78.02,309.3 79.31,326.02 80.31,338.98 \" fill=\"none\" id=\"E7&lt;-E8\" style=\"stroke: #383838; stroke-width: 1.0;\"/><ellipse cx=\"76.3095\" cy=\"287.0367\" fill=\"#FFFFFF\" rx=\"8\" ry=\"8\" style=\"stroke: #383838; stroke-width: 1.0;\"/><line style=\"stroke: #383838; stroke-width: 1.0;\" x1=\"76.919\" x2=\"75.7\" y1=\"295.0135\" y2=\"279.06\"/><line style=\"stroke: #383838; stroke-width: 1.0;\" x1=\"68.3327\" x2=\"84.2862\" y1=\"287.6462\" y2=\"286.4273\"/></a><!--MD5=[a919e0967d6f3de553dc51b9865a1d6d]\n",
       "link E10 to E7--><a href=\"psysml:6b3b5b25-2e7b-4706-a6b7-e16d14d6d3ff\" target=\"_top\" title=\"psysml:6b3b5b25-2e7b-4706-a6b7-e16d14d6d3ff\" xlink:actuate=\"onRequest\" xlink:href=\"psysml:6b3b5b25-2e7b-4706-a6b7-e16d14d6d3ff\" xlink:show=\"new\" xlink:title=\"psysml:6b3b5b25-2e7b-4706-a6b7-e16d14d6d3ff\" xlink:type=\"simple\"><path d=\"M82.67,173.06 C81.44,184.64 79.9,199.23 78.46,212.87 \" fill=\"none\" id=\"E10-&gt;E7\" style=\"stroke: #383838; stroke-width: 1.0;\"/><polygon fill=\"#FFFFFF\" points=\"76.33,232.98,71.3641,213.3499,85.2867,214.8202,76.33,232.98\" style=\"stroke: #383838; stroke-width: 1.0;\"/><ellipse cx=\"73.9516\" cy=\"207.8915\" fill=\"#383838\" rx=\"2\" ry=\"2\" style=\"stroke: #383838; stroke-width: 1.0;\"/><ellipse cx=\"83.8963\" cy=\"208.9417\" fill=\"#383838\" rx=\"2\" ry=\"2\" style=\"stroke: #383838; stroke-width: 1.0;\"/></a><!--MD5=[de308be4a2431766a05a907a031c07fc]\n",
       "reverse link E10 to E11--><a href=\"psysml:f0d60f06-c05b-4a0c-b5da-116feca1e017\" target=\"_top\" title=\"psysml:f0d60f06-c05b-4a0c-b5da-116feca1e017\" xlink:actuate=\"onRequest\" xlink:href=\"psysml:f0d60f06-c05b-4a0c-b5da-116feca1e017\" xlink:show=\"new\" xlink:title=\"psysml:f0d60f06-c05b-4a0c-b5da-116feca1e017\" xlink:type=\"simple\"><path d=\"M115.77,184.24 C127.79,196.42 142.02,209.92 156,221 C161.21,225.13 166.94,229.19 172.67,232.99 \" fill=\"none\" id=\"E10&lt;-E11\" style=\"stroke: #383838; stroke-width: 1.0;\"/><ellipse cx=\"110.567\" cy=\"178.8449\" fill=\"#FFFFFF\" rx=\"8\" ry=\"8\" style=\"stroke: #383838; stroke-width: 1.0;\"/><line style=\"stroke: #383838; stroke-width: 1.0;\" x1=\"116.1241\" x2=\"105.01\" y1=\"184.5999\" y2=\"173.09\"/><line style=\"stroke: #383838; stroke-width: 1.0;\" x1=\"104.8121\" x2=\"116.322\" y1=\"184.402\" y2=\"173.2879\"/></a><!--MD5=[1d54f998c6d5961a1a9184be73a7eb6c]\n",
       "reverse link E10 to E12--><a href=\"psysml:71deb3ad-cb75-457d-be7a-3248eedb87f3\" target=\"_top\" title=\"psysml:71deb3ad-cb75-457d-be7a-3248eedb87f3\" xlink:actuate=\"onRequest\" xlink:href=\"psysml:71deb3ad-cb75-457d-be7a-3248eedb87f3\" xlink:show=\"new\" xlink:title=\"psysml:71deb3ad-cb75-457d-be7a-3248eedb87f3\" xlink:type=\"simple\"><path d=\"M109.27,183.52 C121.61,197.53 137.84,212.61 156,221 C211.49,246.64 233.79,217.82 293,233 C298.79,234.48 304.75,236.57 310.46,238.87 \" fill=\"none\" id=\"E10&lt;-E12\" style=\"stroke: #383838; stroke-width: 1.0;\"/><polygon fill=\"#383838\" points=\"100.62,173.13,101.3852,180.3004,108.2983,182.3519,107.5331,175.1815,100.62,173.13\" style=\"stroke: #383838; stroke-width: 1.0;\"/><text fill=\"#000000\" font-family=\"sans-serif\" font-size=\"13\" lengthAdjust=\"spacingAndGlyphs\" textLength=\"8\" x=\"294.4669\" y=\"230.5704\">4</text></a><!--MD5=[f2753cb1bd7aa79f0ce96d07caab051d]\n",
       "link E12 to E9--><a href=\"psysml:e516268d-48c3-4d34-98b1-9a1dc46c9c3a\" target=\"_top\" title=\"psysml:e516268d-48c3-4d34-98b1-9a1dc46c9c3a\" xlink:actuate=\"onRequest\" xlink:href=\"psysml:e516268d-48c3-4d34-98b1-9a1dc46c9c3a\" xlink:show=\"new\" xlink:title=\"psysml:e516268d-48c3-4d34-98b1-9a1dc46c9c3a\" xlink:type=\"simple\"><path d=\"M343,279.06 C343,290.64 343,305.23 343,318.87 \" fill=\"none\" id=\"E12-&gt;E9\" style=\"stroke: #383838; stroke-width: 1.0;\"/><polygon fill=\"#FFFFFF\" points=\"343,338.98,336,319.98,350,319.98,343,338.98\" style=\"stroke: #383838; stroke-width: 1.0;\"/><ellipse cx=\"338\" cy=\"314.28\" fill=\"#383838\" rx=\"2\" ry=\"2\" style=\"stroke: #383838; stroke-width: 1.0;\"/><ellipse cx=\"348\" cy=\"314.28\" fill=\"#383838\" rx=\"2\" ry=\"2\" style=\"stroke: #383838; stroke-width: 1.0;\"/></a><!--MD5=[7037978dddc7f43faf104114b7c29c99]\n",
       "@startuml\r\n",
       "skinparam monochrome true\r\n",
       "skinparam classbackgroundcolor white\r\n",
       "skinparam shadowing false\r\n",
       "skinparam wrapWidth 300\r\n",
       "hide circle\r\n",
       "\r\n",
       "package \"PackageVehicles\" as E1  [[psysml:28024022-79c1-4a5a-bdaf-482d67c38692 ]]  {\r\n",
       "comp def \"PackageVehiclesID\" as E2  <<(T,blue) attribute  def>> [[psysml:2d3c1a57-c171-4c81-a4d4-acdf4cbf78f4 ]] {\r\n",
       "}\r\n",
       "package \"VehicleAccessories\" as E3  [[psysml:410cf12e-f9e1-40ff-a7df-a8fb13f844d0 ]]  {\r\n",
       "comp def \"AccessoryID\" as E4  <<(T,blue) attribute  def>> [[psysml:210cea08-b33d-4219-95d8-2e7b68c9c919 ]] {\r\n",
       "}\r\n",
       "package \"SeatCover\" as E5  [[psysml:1ef0eec1-472a-4a08-b4d4-c1c491ad7ac2 ]]  {\r\n",
       "comp def \"SeatCoverColor\" as E6  <<(T,blue) attribute  def>> [[psysml:4d2b633a-6127-49d6-823c-3ef4fb792f3d ]] {\r\n",
       "}\r\n",
       "}\r\n",
       "}\r\n",
       "comp def \"Vehicle\" as E7  <<(T,blue) part  def>> [[psysml:ceb9c9ee-077d-4a2b-80ff-0193b006616b ]] {\r\n",
       "}\r\n",
       "comp def \"Color\" as E8  <<(T,blue) attribute  def>> [[psysml:e250169c-4374-4af6-9da2-effccdf57f92 ]] {\r\n",
       "}\r\n",
       "comp def \"Wheel\" as E9  <<(T,blue) part  def>> [[psysml:a384b8b9-1578-4dc4-ba49-2926a3fbc217 ]] {\r\n",
       "}\r\n",
       "comp usage \"vehicle: Vehicle \" as E10  <<(T,blue) part>> [[psysml:c09392d7-5169-4cea-bad1-481ed6814d70 ]] {\r\n",
       "}\r\n",
       "comp def \"RegistrationNumber\" as E11  <<(T,blue) attribute  def>> [[psysml:f6742681-9e52-4482-af8c-f30d6479f85e ]] {\r\n",
       "}\r\n",
       "comp usage \"w: Wheel \" as E12  <<(T,blue) part>> [[psysml:efb45fcc-5475-480a-a1d4-1587746c202c ]] {\r\n",
       "}\r\n",
       "}\r\n",
       "E7 +- - E8 [[psysml:72ac30e2-385c-4f69-9a96-1ef875933d33 ]] \r\n",
       "E10 - -:|> E7 [[psysml:6b3b5b25-2e7b-4706-a6b7-e16d14d6d3ff ]] \r\n",
       "E10 +- - E11 [[psysml:f0d60f06-c05b-4a0c-b5da-116feca1e017 ]] \r\n",
       "E10 *- - \"4\"E12 [[psysml:71deb3ad-cb75-457d-be7a-3248eedb87f3 ]] \r\n",
       "E12 - -:|> E9 [[psysml:e516268d-48c3-4d34-98b1-9a1dc46c9c3a ]] \r\n",
       "@enduml\r\n",
       "\n",
       "PlantUML version 1.2020.13(Sat Jun 13 22:26:38 AEST 2020)\n",
       "(EPL source distribution)\n",
       "Java Runtime: OpenJDK Runtime Environment\n",
       "JVM: OpenJDK 64-Bit Server VM\n",
       "Default Encoding: UTF-8\n",
       "Language: en\n",
       "Country: AU\n",
       "--></g></svg>"
      ]
     },
     "execution_count": 3,
     "metadata": {},
     "output_type": "execute_result"
    }
   ],
   "source": [
    "%viz --view=tree PackageVehicles"
   ]
  },
  {
   "cell_type": "code",
   "execution_count": null,
   "metadata": {},
   "outputs": [],
   "source": []
  }
 ],
 "metadata": {
  "kernelspec": {
   "display_name": "SysML",
   "language": "sysml",
   "name": "sysml"
  },
  "language_info": {
   "codemirror_mode": "sysml",
   "file_extension": ".sysml",
   "mimetype": "text/x-sysml",
   "name": "SysML",
   "pygments_lexer": "java",
   "version": "1.0.0"
  }
 },
 "nbformat": 4,
 "nbformat_minor": 4
}
