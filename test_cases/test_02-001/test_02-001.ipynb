{
 "cells": [
  {
   "cell_type": "code",
   "execution_count": 1,
   "metadata": {},
   "outputs": [
    {
     "data": {
      "text/plain": [
       "Package PackageVehicles (288f6cd7-d76b-4aa7-aaf8-9e1e2dd4003a)\n"
      ]
     },
     "execution_count": 1,
     "metadata": {},
     "output_type": "execute_result"
    }
   ],
   "source": [
    "package PackageVehicles {\n",
    "\n",
    "    // an indented comment taking the entire line\n",
    "    part def Vehicle;// an appended comment without white space\n",
    "    part def Wheel;           // an appended comment with white space\n",
    "\n",
    "    part vehicle:Vehicle {\n",
    "        part w:Wheel[4];\n",
    "    }\n",
    "}\n",
    "// a comment taking the entire line"
   ]
  },
  {
   "cell_type": "code",
   "execution_count": 2,
   "metadata": {},
   "outputs": [
    {
     "data": {
      "image/svg+xml": [
       "<?xml version=\"1.0\" encoding=\"UTF-8\" standalone=\"no\"?><svg xmlns=\"http://www.w3.org/2000/svg\" xmlns:xlink=\"http://www.w3.org/1999/xlink\" contentScriptType=\"application/ecmascript\" contentStyleType=\"text/css\" height=\"327px\" preserveAspectRatio=\"none\" style=\"width:233px;height:327px;\" version=\"1.1\" viewBox=\"0 0 233 327\" width=\"233px\" zoomAndPan=\"magnify\"><defs/><g><!--MD5=[fbc87193dbaf4d95561dea2c320d4a47]\n",
       "cluster E1--><a href=\"psysml:8e8f6c0e-e918-49ee-9b3e-aca02500329d\" target=\"_top\" title=\"psysml:8e8f6c0e-e918-49ee-9b3e-aca02500329d\" xlink:actuate=\"onRequest\" xlink:href=\"psysml:8e8f6c0e-e918-49ee-9b3e-aca02500329d\" xlink:show=\"new\" xlink:title=\"psysml:8e8f6c0e-e918-49ee-9b3e-aca02500329d\" xlink:type=\"simple\"><polygon fill=\"#FFFFFF\" points=\"16,6,155,6,162,28.2969,211,28.2969,211,315,16,315,16,6\" style=\"stroke: #000000; stroke-width: 1.5;\"/><line style=\"stroke: #000000; stroke-width: 1.5;\" x1=\"16\" x2=\"162\" y1=\"28.2969\" y2=\"28.2969\"/><text fill=\"#000000\" font-family=\"sans-serif\" font-size=\"14\" font-weight=\"bold\" lengthAdjust=\"spacingAndGlyphs\" textLength=\"133\" x=\"20\" y=\"20.9951\">PackageVehicles</text></a><!--MD5=[b4997ac47864f28c2f74865a473b2911]\n",
       "class E2--><a href=\"psysml:3df075fe-46a3-4b0e-8ed2-5bdf00a2462a\" target=\"_top\" title=\"psysml:3df075fe-46a3-4b0e-8ed2-5bdf00a2462a\" xlink:actuate=\"onRequest\" xlink:href=\"psysml:3df075fe-46a3-4b0e-8ed2-5bdf00a2462a\" xlink:show=\"new\" xlink:title=\"psysml:3df075fe-46a3-4b0e-8ed2-5bdf00a2462a\" xlink:type=\"simple\"><rect fill=\"#FFFFFF\" height=\"45.9375\" id=\"E2\" style=\"stroke: #383838; stroke-width: 1.5;\" width=\"66\" x=\"32\" y=\"147\"/><text fill=\"#000000\" font-family=\"sans-serif\" font-size=\"12\" font-style=\"italic\" lengthAdjust=\"spacingAndGlyphs\" textLength=\"64\" x=\"33\" y=\"163.1387\">«part def»</text><text fill=\"#000000\" font-family=\"sans-serif\" font-size=\"12\" lengthAdjust=\"spacingAndGlyphs\" textLength=\"45\" x=\"42.5\" y=\"177.1074\">Vehicle</text><line style=\"stroke: #383838; stroke-width: 1.5;\" x1=\"33\" x2=\"97\" y1=\"184.9375\" y2=\"184.9375\"/></a><!--MD5=[09b614a08d8cba4a07c9adeb5e0fee81]\n",
       "class E3--><a href=\"psysml:ad034fc6-4304-4d19-9147-793a43f1e161\" target=\"_top\" title=\"psysml:ad034fc6-4304-4d19-9147-793a43f1e161\" xlink:actuate=\"onRequest\" xlink:href=\"psysml:ad034fc6-4304-4d19-9147-793a43f1e161\" xlink:show=\"new\" xlink:title=\"psysml:ad034fc6-4304-4d19-9147-793a43f1e161\" xlink:type=\"simple\"><rect fill=\"#FFFFFF\" height=\"45.9375\" id=\"E3\" style=\"stroke: #383838; stroke-width: 1.5;\" width=\"66\" x=\"129\" y=\"253\"/><text fill=\"#000000\" font-family=\"sans-serif\" font-size=\"12\" font-style=\"italic\" lengthAdjust=\"spacingAndGlyphs\" textLength=\"64\" x=\"130\" y=\"269.1387\">«part def»</text><text fill=\"#000000\" font-family=\"sans-serif\" font-size=\"12\" lengthAdjust=\"spacingAndGlyphs\" textLength=\"38\" x=\"143\" y=\"283.1074\">Wheel</text><line style=\"stroke: #383838; stroke-width: 1.5;\" x1=\"130\" x2=\"194\" y1=\"290.9375\" y2=\"290.9375\"/></a><!--MD5=[ebbe1d658d1005bcc118a6aa81145e00]\n",
       "class E4--><a href=\"psysml:8fdedc9f-73d5-4727-9e46-dd02a29280a7\" target=\"_top\" title=\"psysml:8fdedc9f-73d5-4727-9e46-dd02a29280a7\" xlink:actuate=\"onRequest\" xlink:href=\"psysml:8fdedc9f-73d5-4727-9e46-dd02a29280a7\" xlink:show=\"new\" xlink:title=\"psysml:8fdedc9f-73d5-4727-9e46-dd02a29280a7\" xlink:type=\"simple\"><rect fill=\"#FFFFFF\" height=\"45.9375\" id=\"E4\" rx=\"10\" ry=\"10\" style=\"stroke: #383838; stroke-width: 1.5;\" width=\"102\" x=\"62\" y=\"41\"/><text fill=\"#000000\" font-family=\"sans-serif\" font-size=\"12\" font-style=\"italic\" lengthAdjust=\"spacingAndGlyphs\" textLength=\"40\" x=\"93\" y=\"57.1387\">«part»</text><text fill=\"#000000\" font-family=\"sans-serif\" font-size=\"12\" lengthAdjust=\"spacingAndGlyphs\" textLength=\"96\" x=\"65\" y=\"71.1074\">vehicle: Vehicle</text><line style=\"stroke: #383838; stroke-width: 1.5;\" x1=\"63\" x2=\"163\" y1=\"78.9375\" y2=\"78.9375\"/></a><!--MD5=[270fce915f116d4de14055a7c1d9a0f3]\n",
       "class E5--><a href=\"psysml:9636e109-cbfc-4f34-bfcd-3945d720f29c\" target=\"_top\" title=\"psysml:9636e109-cbfc-4f34-bfcd-3945d720f29c\" xlink:actuate=\"onRequest\" xlink:href=\"psysml:9636e109-cbfc-4f34-bfcd-3945d720f29c\" xlink:show=\"new\" xlink:title=\"psysml:9636e109-cbfc-4f34-bfcd-3945d720f29c\" xlink:type=\"simple\"><rect fill=\"#FFFFFF\" height=\"45.9375\" id=\"E5\" rx=\"10\" ry=\"10\" style=\"stroke: #383838; stroke-width: 1.5;\" width=\"61\" x=\"133.5\" y=\"147\"/><text fill=\"#000000\" font-family=\"sans-serif\" font-size=\"12\" font-style=\"italic\" lengthAdjust=\"spacingAndGlyphs\" textLength=\"40\" x=\"144\" y=\"163.1387\">«part»</text><text fill=\"#000000\" font-family=\"sans-serif\" font-size=\"12\" lengthAdjust=\"spacingAndGlyphs\" textLength=\"55\" x=\"136.5\" y=\"177.1074\">w: Wheel</text><line style=\"stroke: #383838; stroke-width: 1.5;\" x1=\"134.5\" x2=\"193.5\" y1=\"184.9375\" y2=\"184.9375\"/></a><!--MD5=[185131fc0dcab0a4505a2ebe144e961b]\n",
       "link E4 to E2--><a href=\"psysml:63985b40-37ba-42f1-90a5-09293f504608\" target=\"_top\" title=\"psysml:63985b40-37ba-42f1-90a5-09293f504608\" xlink:actuate=\"onRequest\" xlink:href=\"psysml:63985b40-37ba-42f1-90a5-09293f504608\" xlink:show=\"new\" xlink:title=\"psysml:63985b40-37ba-42f1-90a5-09293f504608\" xlink:type=\"simple\"><path d=\"M102.82,87.06 C97.22,99.19 90.1,114.62 83.55,128.82 \" fill=\"none\" id=\"E4-&gt;E2\" style=\"stroke: #383838; stroke-width: 1.0;\"/><polygon fill=\"#FFFFFF\" points=\"75.16,146.98,76.7714,126.7958,89.4814,132.6658,75.16,146.98\" style=\"stroke: #383838; stroke-width: 1.0;\"/><ellipse cx=\"80.9771\" cy=\"122.4596\" fill=\"#383838\" rx=\"2\" ry=\"2\" style=\"stroke: #383838; stroke-width: 1.0;\"/><ellipse cx=\"90.0556\" cy=\"126.6524\" fill=\"#383838\" rx=\"2\" ry=\"2\" style=\"stroke: #383838; stroke-width: 1.0;\"/></a><!--MD5=[62aa6af11e70f752912c1cb0466f24f7]\n",
       "reverse link E4 to E5--><a href=\"psysml:5c4ddfb7-db92-40d6-a575-6b55779aacf2\" target=\"_top\" title=\"psysml:5c4ddfb7-db92-40d6-a575-6b55779aacf2\" xlink:actuate=\"onRequest\" xlink:href=\"psysml:5c4ddfb7-db92-40d6-a575-6b55779aacf2\" xlink:show=\"new\" xlink:title=\"psysml:5c4ddfb7-db92-40d6-a575-6b55779aacf2\" xlink:type=\"simple\"><path d=\"M129.69,99.03 C137.41,114.78 146.37,133.06 153.2,146.98 \" fill=\"none\" id=\"E4&lt;-E5\" style=\"stroke: #383838; stroke-width: 1.0;\"/><polygon fill=\"#383838\" points=\"123.82,87.06,122.8729,94.2086,129.1073,97.8324,130.0544,90.6838,123.82,87.06\" style=\"stroke: #383838; stroke-width: 1.0;\"/><text fill=\"#000000\" font-family=\"sans-serif\" font-size=\"13\" lengthAdjust=\"spacingAndGlyphs\" textLength=\"8\" x=\"141.2225\" y=\"135.8709\">4</text></a><!--MD5=[e9be52314489bd878ff4c7144b63c9e1]\n",
       "link E5 to E3--><a href=\"psysml:5e9a3a90-5e46-4c80-8516-ca0aa51302d5\" target=\"_top\" title=\"psysml:5e9a3a90-5e46-4c80-8516-ca0aa51302d5\" xlink:actuate=\"onRequest\" xlink:href=\"psysml:5e9a3a90-5e46-4c80-8516-ca0aa51302d5\" xlink:show=\"new\" xlink:title=\"psysml:5e9a3a90-5e46-4c80-8516-ca0aa51302d5\" xlink:type=\"simple\"><path d=\"M163.58,193.06 C163.35,204.64 163.07,219.23 162.81,232.87 \" fill=\"none\" id=\"E5-&gt;E3\" style=\"stroke: #383838; stroke-width: 1.0;\"/><polygon fill=\"#FFFFFF\" points=\"162.42,252.98,155.774,233.8533,169.7716,234.1133,162.42,252.98\" style=\"stroke: #383838; stroke-width: 1.0;\"/><ellipse cx=\"157.8795\" cy=\"228.1914\" fill=\"#383838\" rx=\"2\" ry=\"2\" style=\"stroke: #383838; stroke-width: 1.0;\"/><ellipse cx=\"167.8778\" cy=\"228.3771\" fill=\"#383838\" rx=\"2\" ry=\"2\" style=\"stroke: #383838; stroke-width: 1.0;\"/></a><!--MD5=[1cf6b3111ee43312a359c5550322293a]\n",
       "@startuml\r\n",
       "skinparam monochrome true\r\n",
       "skinparam classbackgroundcolor white\r\n",
       "skinparam shadowing false\r\n",
       "skinparam wrapWidth 300\r\n",
       "hide circle\r\n",
       "\r\n",
       "package \"PackageVehicles\" as E1  [[psysml:8e8f6c0e-e918-49ee-9b3e-aca02500329d ]]  {\r\n",
       "comp def \"Vehicle\" as E2  <<(T,blue) part def>> [[psysml:3df075fe-46a3-4b0e-8ed2-5bdf00a2462a ]] {\r\n",
       "}\r\n",
       "comp def \"Wheel\" as E3  <<(T,blue) part def>> [[psysml:ad034fc6-4304-4d19-9147-793a43f1e161 ]] {\r\n",
       "}\r\n",
       "comp usage \"vehicle: Vehicle\" as E4  <<(T,blue) part>> [[psysml:8fdedc9f-73d5-4727-9e46-dd02a29280a7 ]] {\r\n",
       "}\r\n",
       "comp usage \"w: Wheel\" as E5  <<(T,blue) part>> [[psysml:9636e109-cbfc-4f34-bfcd-3945d720f29c ]] {\r\n",
       "}\r\n",
       "E4 - -:|> E2 [[psysml:63985b40-37ba-42f1-90a5-09293f504608 ]] \r\n",
       "E4 *- - \"4\"E5 [[psysml:5c4ddfb7-db92-40d6-a575-6b55779aacf2 ]] \r\n",
       "E5 - -:|> E3 [[psysml:5e9a3a90-5e46-4c80-8516-ca0aa51302d5 ]] \r\n",
       "}\r\n",
       "@enduml\r\n",
       "\n",
       "PlantUML version 1.2020.13(Sat Jun 13 22:26:38 AEST 2020)\n",
       "(EPL source distribution)\n",
       "Java Runtime: OpenJDK Runtime Environment\n",
       "JVM: OpenJDK 64-Bit Server VM\n",
       "Default Encoding: UTF-8\n",
       "Language: en\n",
       "Country: AU\n",
       "--></g></svg>"
      ]
     },
     "execution_count": 2,
     "metadata": {},
     "output_type": "execute_result"
    }
   ],
   "source": [
    "%viz --view=tree PackageVehicles"
   ]
  },
  {
   "cell_type": "code",
   "execution_count": null,
   "metadata": {},
   "outputs": [],
   "source": []
  }
 ],
 "metadata": {
  "kernelspec": {
   "display_name": "SysML",
   "language": "sysml",
   "name": "sysml"
  },
  "language_info": {
   "codemirror_mode": "sysml",
   "file_extension": ".sysml",
   "mimetype": "text/x-sysml",
   "name": "SysML",
   "pygments_lexer": "java",
   "version": "1.0.0"
  }
 },
 "nbformat": 4,
 "nbformat_minor": 4
}
