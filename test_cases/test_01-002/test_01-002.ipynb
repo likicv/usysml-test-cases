{
 "cells": [
  {
   "cell_type": "code",
   "execution_count": 1,
   "metadata": {},
   "outputs": [
    {
     "data": {
      "text/plain": [
       "Package PackageVehicles (ea4f9eec-3e62-4cbb-afc3-da39274580a6)\n"
      ]
     },
     "execution_count": 1,
     "metadata": {},
     "output_type": "execute_result"
    }
   ],
   "source": [
    "package PackageVehicles {\n",
    "  \n",
    "    part def Vehicle;\n",
    "\n",
    "    part def Wheel {\n",
    "        part def Lugbolt;\n",
    "    }\n",
    "\n",
    "    part vehicle:Vehicle {\n",
    "        part w:Wheel;\n",
    "    }\n",
    "}"
   ]
  },
  {
   "cell_type": "code",
   "execution_count": 5,
   "metadata": {},
   "outputs": [
    {
     "data": {
      "image/svg+xml": [
       "<?xml version=\"1.0\" encoding=\"UTF-8\" standalone=\"no\"?><svg xmlns=\"http://www.w3.org/2000/svg\" xmlns:xlink=\"http://www.w3.org/1999/xlink\" contentScriptType=\"application/ecmascript\" contentStyleType=\"text/css\" height=\"433px\" preserveAspectRatio=\"none\" style=\"width:241px;height:433px;\" version=\"1.1\" viewBox=\"0 0 241 433\" width=\"241px\" zoomAndPan=\"magnify\"><defs/><g><!--MD5=[fbc87193dbaf4d95561dea2c320d4a47]\n",
       "cluster E1--><a href=\"psysml:a6f16eaa-eb79-466f-ab5f-a0a7f93f8739\" target=\"_top\" title=\"psysml:a6f16eaa-eb79-466f-ab5f-a0a7f93f8739\" xlink:actuate=\"onRequest\" xlink:href=\"psysml:a6f16eaa-eb79-466f-ab5f-a0a7f93f8739\" xlink:show=\"new\" xlink:title=\"psysml:a6f16eaa-eb79-466f-ab5f-a0a7f93f8739\" xlink:type=\"simple\"><polygon fill=\"#FFFFFF\" points=\"16,6,155,6,162,28.2969,219,28.2969,219,421,16,421,16,6\" style=\"stroke: #000000; stroke-width: 1.5;\"/><line style=\"stroke: #000000; stroke-width: 1.5;\" x1=\"16\" x2=\"162\" y1=\"28.2969\" y2=\"28.2969\"/><text fill=\"#000000\" font-family=\"sans-serif\" font-size=\"14\" font-weight=\"bold\" lengthAdjust=\"spacingAndGlyphs\" textLength=\"133\" x=\"20\" y=\"20.9951\">PackageVehicles</text></a><!--MD5=[b4997ac47864f28c2f74865a473b2911]\n",
       "class E2--><a href=\"psysml:66d5109c-698f-439a-aa3c-21f895f11b1f\" target=\"_top\" title=\"psysml:66d5109c-698f-439a-aa3c-21f895f11b1f\" xlink:actuate=\"onRequest\" xlink:href=\"psysml:66d5109c-698f-439a-aa3c-21f895f11b1f\" xlink:show=\"new\" xlink:title=\"psysml:66d5109c-698f-439a-aa3c-21f895f11b1f\" xlink:type=\"simple\"><rect fill=\"#FFFFFF\" height=\"45.9375\" id=\"E2\" style=\"stroke: #383838; stroke-width: 1.5;\" width=\"70\" x=\"32\" y=\"147\"/><text fill=\"#000000\" font-family=\"sans-serif\" font-size=\"12\" font-style=\"italic\" lengthAdjust=\"spacingAndGlyphs\" textLength=\"68\" x=\"33\" y=\"163.1387\">«part  def»</text><text fill=\"#000000\" font-family=\"sans-serif\" font-size=\"12\" lengthAdjust=\"spacingAndGlyphs\" textLength=\"45\" x=\"44.5\" y=\"177.1074\">Vehicle</text><line style=\"stroke: #383838; stroke-width: 1.5;\" x1=\"33\" x2=\"101\" y1=\"184.9375\" y2=\"184.9375\"/></a><!--MD5=[09b614a08d8cba4a07c9adeb5e0fee81]\n",
       "class E3--><a href=\"psysml:c9ce9530-549e-47f8-a89c-b6cf9b2cb4ab\" target=\"_top\" title=\"psysml:c9ce9530-549e-47f8-a89c-b6cf9b2cb4ab\" xlink:actuate=\"onRequest\" xlink:href=\"psysml:c9ce9530-549e-47f8-a89c-b6cf9b2cb4ab\" xlink:show=\"new\" xlink:title=\"psysml:c9ce9530-549e-47f8-a89c-b6cf9b2cb4ab\" xlink:type=\"simple\"><rect fill=\"#FFFFFF\" height=\"45.9375\" id=\"E3\" style=\"stroke: #383838; stroke-width: 1.5;\" width=\"70\" x=\"133\" y=\"253\"/><text fill=\"#000000\" font-family=\"sans-serif\" font-size=\"12\" font-style=\"italic\" lengthAdjust=\"spacingAndGlyphs\" textLength=\"68\" x=\"134\" y=\"269.1387\">«part  def»</text><text fill=\"#000000\" font-family=\"sans-serif\" font-size=\"12\" lengthAdjust=\"spacingAndGlyphs\" textLength=\"38\" x=\"149\" y=\"283.1074\">Wheel</text><line style=\"stroke: #383838; stroke-width: 1.5;\" x1=\"134\" x2=\"202\" y1=\"290.9375\" y2=\"290.9375\"/></a><!--MD5=[ebbe1d658d1005bcc118a6aa81145e00]\n",
       "class E4--><a href=\"psysml:3898aed9-0136-451a-82ed-931584c1f0c1\" target=\"_top\" title=\"psysml:3898aed9-0136-451a-82ed-931584c1f0c1\" xlink:actuate=\"onRequest\" xlink:href=\"psysml:3898aed9-0136-451a-82ed-931584c1f0c1\" xlink:show=\"new\" xlink:title=\"psysml:3898aed9-0136-451a-82ed-931584c1f0c1\" xlink:type=\"simple\"><rect fill=\"#FFFFFF\" height=\"45.9375\" id=\"E4\" style=\"stroke: #383838; stroke-width: 1.5;\" width=\"70\" x=\"133\" y=\"359\"/><text fill=\"#000000\" font-family=\"sans-serif\" font-size=\"12\" font-style=\"italic\" lengthAdjust=\"spacingAndGlyphs\" textLength=\"68\" x=\"134\" y=\"375.1387\">«part  def»</text><text fill=\"#000000\" font-family=\"sans-serif\" font-size=\"12\" lengthAdjust=\"spacingAndGlyphs\" textLength=\"46\" x=\"145\" y=\"389.1074\">Lugbolt</text><line style=\"stroke: #383838; stroke-width: 1.5;\" x1=\"134\" x2=\"202\" y1=\"396.9375\" y2=\"396.9375\"/></a><!--MD5=[270fce915f116d4de14055a7c1d9a0f3]\n",
       "class E5--><a href=\"psysml:a0dde959-59df-4103-a1ed-dfe1195b5a8d\" target=\"_top\" title=\"psysml:a0dde959-59df-4103-a1ed-dfe1195b5a8d\" xlink:actuate=\"onRequest\" xlink:href=\"psysml:a0dde959-59df-4103-a1ed-dfe1195b5a8d\" xlink:show=\"new\" xlink:title=\"psysml:a0dde959-59df-4103-a1ed-dfe1195b5a8d\" xlink:type=\"simple\"><rect fill=\"#FFFFFF\" height=\"45.9375\" id=\"E5\" rx=\"10\" ry=\"10\" style=\"stroke: #383838; stroke-width: 1.5;\" width=\"106\" x=\"64\" y=\"41\"/><text fill=\"#000000\" font-family=\"sans-serif\" font-size=\"12\" font-style=\"italic\" lengthAdjust=\"spacingAndGlyphs\" textLength=\"40\" x=\"97\" y=\"57.1387\">«part»</text><text fill=\"#000000\" font-family=\"sans-serif\" font-size=\"12\" lengthAdjust=\"spacingAndGlyphs\" textLength=\"96\" x=\"67\" y=\"71.1074\">vehicle: Vehicle</text><line style=\"stroke: #383838; stroke-width: 1.5;\" x1=\"65\" x2=\"169\" y1=\"78.9375\" y2=\"78.9375\"/></a><!--MD5=[60a26617385b1d2d0262a64233df1f8d]\n",
       "class E6--><a href=\"psysml:97685561-e8e3-4a65-996d-20b69fe1ec94\" target=\"_top\" title=\"psysml:97685561-e8e3-4a65-996d-20b69fe1ec94\" xlink:actuate=\"onRequest\" xlink:href=\"psysml:97685561-e8e3-4a65-996d-20b69fe1ec94\" xlink:show=\"new\" xlink:title=\"psysml:97685561-e8e3-4a65-996d-20b69fe1ec94\" xlink:type=\"simple\"><rect fill=\"#FFFFFF\" height=\"45.9375\" id=\"E6\" rx=\"10\" ry=\"10\" style=\"stroke: #383838; stroke-width: 1.5;\" width=\"65\" x=\"137.5\" y=\"147\"/><text fill=\"#000000\" font-family=\"sans-serif\" font-size=\"12\" font-style=\"italic\" lengthAdjust=\"spacingAndGlyphs\" textLength=\"40\" x=\"150\" y=\"163.1387\">«part»</text><text fill=\"#000000\" font-family=\"sans-serif\" font-size=\"12\" lengthAdjust=\"spacingAndGlyphs\" textLength=\"55\" x=\"140.5\" y=\"177.1074\">w: Wheel</text><line style=\"stroke: #383838; stroke-width: 1.5;\" x1=\"138.5\" x2=\"201.5\" y1=\"184.9375\" y2=\"184.9375\"/></a><!--MD5=[4672eba38e49728da53d11aeb285b987]\n",
       "reverse link E3 to E4--><a href=\"psysml:b8ea9a99-cdd6-496a-a66c-315badd9bbaa\" target=\"_top\" title=\"psysml:b8ea9a99-cdd6-496a-a66c-315badd9bbaa\" xlink:actuate=\"onRequest\" xlink:href=\"psysml:b8ea9a99-cdd6-496a-a66c-315badd9bbaa\" xlink:show=\"new\" xlink:title=\"psysml:b8ea9a99-cdd6-496a-a66c-315badd9bbaa\" xlink:type=\"simple\"><path d=\"M168,314.34 C168,329.3 168,346.02 168,358.98 \" fill=\"none\" id=\"E3&lt;-E4\" style=\"stroke: #383838; stroke-width: 1.0;\"/><ellipse cx=\"168\" cy=\"307.06\" fill=\"#FFFFFF\" rx=\"8\" ry=\"8\" style=\"stroke: #383838; stroke-width: 1.0;\"/><line style=\"stroke: #383838; stroke-width: 1.0;\" x1=\"168\" x2=\"168\" y1=\"315.06\" y2=\"299.06\"/><line style=\"stroke: #383838; stroke-width: 1.0;\" x1=\"160\" x2=\"176\" y1=\"307.06\" y2=\"307.06\"/></a><!--MD5=[15ebcb19ae302d9b601edb458606d402]\n",
       "link E5 to E2--><a href=\"psysml:6763cfc4-adb0-4bc3-b8fe-fe77337e076c\" target=\"_top\" title=\"psysml:6763cfc4-adb0-4bc3-b8fe-fe77337e076c\" xlink:actuate=\"onRequest\" xlink:href=\"psysml:6763cfc4-adb0-4bc3-b8fe-fe77337e076c\" xlink:show=\"new\" xlink:title=\"psysml:6763cfc4-adb0-4bc3-b8fe-fe77337e076c\" xlink:type=\"simple\"><path d=\"M106.4,87.06 C100.56,99.19 93.14,114.62 86.32,128.82 \" fill=\"none\" id=\"E5-&gt;E2\" style=\"stroke: #383838; stroke-width: 1.0;\"/><polygon fill=\"#FFFFFF\" points=\"77.59,146.98,79.5106,126.8228,92.1291,132.8869,77.59,146.98\" style=\"stroke: #383838; stroke-width: 1.0;\"/><ellipse cx=\"83.7822\" cy=\"122.5516\" fill=\"#383838\" rx=\"2\" ry=\"2\" style=\"stroke: #383838; stroke-width: 1.0;\"/><ellipse cx=\"92.7954\" cy=\"126.8831\" fill=\"#383838\" rx=\"2\" ry=\"2\" style=\"stroke: #383838; stroke-width: 1.0;\"/></a><!--MD5=[85d356282659285ab4b2cfe2f634dd2b]\n",
       "reverse link E5 to E6--><a href=\"psysml:0516d42c-b247-47b8-9fed-320db825e0bd\" target=\"_top\" title=\"psysml:0516d42c-b247-47b8-9fed-320db825e0bd\" xlink:actuate=\"onRequest\" xlink:href=\"psysml:0516d42c-b247-47b8-9fed-320db825e0bd\" xlink:show=\"new\" xlink:title=\"psysml:0516d42c-b247-47b8-9fed-320db825e0bd\" xlink:type=\"simple\"><path d=\"M134.34,99.03 C142.37,114.78 151.68,133.06 158.78,146.98 \" fill=\"none\" id=\"E5&lt;-E6\" style=\"stroke: #383838; stroke-width: 1.0;\"/><polygon fill=\"#383838\" points=\"128.24,87.06,127.3983,94.2218,133.6855,97.7533,134.5272,90.5915,128.24,87.06\" style=\"stroke: #383838; stroke-width: 1.0;\"/><text fill=\"#000000\" font-family=\"sans-serif\" font-size=\"13\" lengthAdjust=\"spacingAndGlyphs\" textLength=\"8\" x=\"146.6896\" y=\"135.8709\">1</text></a><!--MD5=[a717450b82c80b9240a525fa862496af]\n",
       "link E6 to E3--><a href=\"psysml:5e466789-6eed-4f54-a6fb-12d4ed2ecfaa\" target=\"_top\" title=\"psysml:5e466789-6eed-4f54-a6fb-12d4ed2ecfaa\" xlink:actuate=\"onRequest\" xlink:href=\"psysml:5e466789-6eed-4f54-a6fb-12d4ed2ecfaa\" xlink:show=\"new\" xlink:title=\"psysml:5e466789-6eed-4f54-a6fb-12d4ed2ecfaa\" xlink:type=\"simple\"><path d=\"M169.58,193.06 C169.35,204.64 169.07,219.23 168.81,232.87 \" fill=\"none\" id=\"E6-&gt;E3\" style=\"stroke: #383838; stroke-width: 1.0;\"/><polygon fill=\"#FFFFFF\" points=\"168.42,252.98,161.774,233.8533,175.7716,234.1133,168.42,252.98\" style=\"stroke: #383838; stroke-width: 1.0;\"/><ellipse cx=\"163.8795\" cy=\"228.1914\" fill=\"#383838\" rx=\"2\" ry=\"2\" style=\"stroke: #383838; stroke-width: 1.0;\"/><ellipse cx=\"173.8778\" cy=\"228.3771\" fill=\"#383838\" rx=\"2\" ry=\"2\" style=\"stroke: #383838; stroke-width: 1.0;\"/></a><!--MD5=[02c777a95717efd7dcb531ea15098169]\n",
       "@startuml\r\n",
       "skinparam monochrome true\r\n",
       "skinparam classbackgroundcolor white\r\n",
       "skinparam shadowing false\r\n",
       "skinparam wrapWidth 300\r\n",
       "hide circle\r\n",
       "\r\n",
       "package \"PackageVehicles\" as E1  [[psysml:a6f16eaa-eb79-466f-ab5f-a0a7f93f8739 ]]  {\r\n",
       "comp def \"Vehicle\" as E2  <<(T,blue) part  def>> [[psysml:66d5109c-698f-439a-aa3c-21f895f11b1f ]] {\r\n",
       "}\r\n",
       "comp def \"Wheel\" as E3  <<(T,blue) part  def>> [[psysml:c9ce9530-549e-47f8-a89c-b6cf9b2cb4ab ]] {\r\n",
       "}\r\n",
       "comp def \"Lugbolt\" as E4  <<(T,blue) part  def>> [[psysml:3898aed9-0136-451a-82ed-931584c1f0c1 ]] {\r\n",
       "}\r\n",
       "comp usage \"vehicle: Vehicle \" as E5  <<(T,blue) part>> [[psysml:a0dde959-59df-4103-a1ed-dfe1195b5a8d ]] {\r\n",
       "}\r\n",
       "comp usage \"w: Wheel \" as E6  <<(T,blue) part>> [[psysml:97685561-e8e3-4a65-996d-20b69fe1ec94 ]] {\r\n",
       "}\r\n",
       "}\r\n",
       "E3 +- - E4 [[psysml:b8ea9a99-cdd6-496a-a66c-315badd9bbaa ]] \r\n",
       "E5 - -:|> E2 [[psysml:6763cfc4-adb0-4bc3-b8fe-fe77337e076c ]] \r\n",
       "E5 *- - \"1\"E6 [[psysml:0516d42c-b247-47b8-9fed-320db825e0bd ]] \r\n",
       "E6 - -:|> E3 [[psysml:5e466789-6eed-4f54-a6fb-12d4ed2ecfaa ]] \r\n",
       "@enduml\r\n",
       "\n",
       "PlantUML version 1.2020.13(Sat Jun 13 22:26:38 AEST 2020)\n",
       "(EPL source distribution)\n",
       "Java Runtime: OpenJDK Runtime Environment\n",
       "JVM: OpenJDK 64-Bit Server VM\n",
       "Default Encoding: UTF-8\n",
       "Language: en\n",
       "Country: AU\n",
       "--></g></svg>"
      ]
     },
     "execution_count": 5,
     "metadata": {},
     "output_type": "execute_result"
    }
   ],
   "source": [
    "%viz --view=tree PackageVehicles"
   ]
  }
 ],
 "metadata": {
  "kernelspec": {
   "display_name": "SysML",
   "language": "sysml",
   "name": "sysml"
  },
  "language_info": {
   "codemirror_mode": "sysml",
   "file_extension": ".sysml",
   "mimetype": "text/x-sysml",
   "name": "SysML",
   "pygments_lexer": "java",
   "version": "1.0.0"
  }
 },
 "nbformat": 4,
 "nbformat_minor": 4
}
