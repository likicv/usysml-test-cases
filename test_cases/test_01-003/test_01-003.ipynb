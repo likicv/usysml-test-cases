{
 "cells": [
  {
   "cell_type": "code",
   "execution_count": 1,
   "metadata": {},
   "outputs": [
    {
     "data": {
      "text/plain": [
       "Package PackageVehicles (3db6b995-a069-4240-9638-601c69f722b4)\n"
      ]
     },
     "execution_count": 1,
     "metadata": {},
     "output_type": "execute_result"
    }
   ],
   "source": [
    "package PackageVehicles {\n",
    "  \n",
    "    part def Vehicle;\n",
    "\n",
    "    part def Wheel {\n",
    "        part def Lugbolt;\n",
    "    }\n",
    "\n",
    "    part vehicle:Vehicle {\n",
    "        part w:Wheel;\n",
    "        part q;\n",
    "    }\n",
    "}"
   ]
  },
  {
   "cell_type": "code",
   "execution_count": 2,
   "metadata": {},
   "outputs": [
    {
     "data": {
      "image/svg+xml": [
       "<?xml version=\"1.0\" encoding=\"UTF-8\" standalone=\"no\"?><svg xmlns=\"http://www.w3.org/2000/svg\" xmlns:xlink=\"http://www.w3.org/1999/xlink\" contentScriptType=\"application/ecmascript\" contentStyleType=\"text/css\" height=\"433px\" preserveAspectRatio=\"none\" style=\"width:318px;height:433px;\" version=\"1.1\" viewBox=\"0 0 318 433\" width=\"318px\" zoomAndPan=\"magnify\"><defs/><g><!--MD5=[fbc87193dbaf4d95561dea2c320d4a47]\n",
       "cluster E1--><a href=\"psysml:205f314e-215d-4dec-bb6a-4cb5569da1f9\" target=\"_top\" title=\"psysml:205f314e-215d-4dec-bb6a-4cb5569da1f9\" xlink:actuate=\"onRequest\" xlink:href=\"psysml:205f314e-215d-4dec-bb6a-4cb5569da1f9\" xlink:show=\"new\" xlink:title=\"psysml:205f314e-215d-4dec-bb6a-4cb5569da1f9\" xlink:type=\"simple\"><polygon fill=\"#FFFFFF\" points=\"16,6,155,6,162,28.2969,296,28.2969,296,421,16,421,16,6\" style=\"stroke: #000000; stroke-width: 1.5;\"/><line style=\"stroke: #000000; stroke-width: 1.5;\" x1=\"16\" x2=\"162\" y1=\"28.2969\" y2=\"28.2969\"/><text fill=\"#000000\" font-family=\"sans-serif\" font-size=\"14\" font-weight=\"bold\" lengthAdjust=\"spacingAndGlyphs\" textLength=\"133\" x=\"20\" y=\"20.9951\">PackageVehicles</text></a><!--MD5=[b4997ac47864f28c2f74865a473b2911]\n",
       "class E2--><a href=\"psysml:b11c4da1-8497-4004-9029-28da01b8091b\" target=\"_top\" title=\"psysml:b11c4da1-8497-4004-9029-28da01b8091b\" xlink:actuate=\"onRequest\" xlink:href=\"psysml:b11c4da1-8497-4004-9029-28da01b8091b\" xlink:show=\"new\" xlink:title=\"psysml:b11c4da1-8497-4004-9029-28da01b8091b\" xlink:type=\"simple\"><rect fill=\"#FFFFFF\" height=\"45.9375\" id=\"E2\" style=\"stroke: #383838; stroke-width: 1.5;\" width=\"70\" x=\"32\" y=\"147\"/><text fill=\"#000000\" font-family=\"sans-serif\" font-size=\"12\" font-style=\"italic\" lengthAdjust=\"spacingAndGlyphs\" textLength=\"68\" x=\"33\" y=\"163.1387\">«part  def»</text><text fill=\"#000000\" font-family=\"sans-serif\" font-size=\"12\" lengthAdjust=\"spacingAndGlyphs\" textLength=\"45\" x=\"44.5\" y=\"177.1074\">Vehicle</text><line style=\"stroke: #383838; stroke-width: 1.5;\" x1=\"33\" x2=\"101\" y1=\"184.9375\" y2=\"184.9375\"/></a><!--MD5=[09b614a08d8cba4a07c9adeb5e0fee81]\n",
       "class E3--><a href=\"psysml:b916723c-c70a-4d80-8786-7eb8d864d05e\" target=\"_top\" title=\"psysml:b916723c-c70a-4d80-8786-7eb8d864d05e\" xlink:actuate=\"onRequest\" xlink:href=\"psysml:b916723c-c70a-4d80-8786-7eb8d864d05e\" xlink:show=\"new\" xlink:title=\"psysml:b916723c-c70a-4d80-8786-7eb8d864d05e\" xlink:type=\"simple\"><rect fill=\"#FFFFFF\" height=\"45.9375\" id=\"E3\" style=\"stroke: #383838; stroke-width: 1.5;\" width=\"70\" x=\"135\" y=\"253\"/><text fill=\"#000000\" font-family=\"sans-serif\" font-size=\"12\" font-style=\"italic\" lengthAdjust=\"spacingAndGlyphs\" textLength=\"68\" x=\"136\" y=\"269.1387\">«part  def»</text><text fill=\"#000000\" font-family=\"sans-serif\" font-size=\"12\" lengthAdjust=\"spacingAndGlyphs\" textLength=\"38\" x=\"151\" y=\"283.1074\">Wheel</text><line style=\"stroke: #383838; stroke-width: 1.5;\" x1=\"136\" x2=\"204\" y1=\"290.9375\" y2=\"290.9375\"/></a><!--MD5=[ebbe1d658d1005bcc118a6aa81145e00]\n",
       "class E4--><a href=\"psysml:46c99c69-b576-4aca-a1b7-2de83c349b0f\" target=\"_top\" title=\"psysml:46c99c69-b576-4aca-a1b7-2de83c349b0f\" xlink:actuate=\"onRequest\" xlink:href=\"psysml:46c99c69-b576-4aca-a1b7-2de83c349b0f\" xlink:show=\"new\" xlink:title=\"psysml:46c99c69-b576-4aca-a1b7-2de83c349b0f\" xlink:type=\"simple\"><rect fill=\"#FFFFFF\" height=\"45.9375\" id=\"E4\" style=\"stroke: #383838; stroke-width: 1.5;\" width=\"70\" x=\"135\" y=\"359\"/><text fill=\"#000000\" font-family=\"sans-serif\" font-size=\"12\" font-style=\"italic\" lengthAdjust=\"spacingAndGlyphs\" textLength=\"68\" x=\"136\" y=\"375.1387\">«part  def»</text><text fill=\"#000000\" font-family=\"sans-serif\" font-size=\"12\" lengthAdjust=\"spacingAndGlyphs\" textLength=\"46\" x=\"147\" y=\"389.1074\">Lugbolt</text><line style=\"stroke: #383838; stroke-width: 1.5;\" x1=\"136\" x2=\"204\" y1=\"396.9375\" y2=\"396.9375\"/></a><!--MD5=[270fce915f116d4de14055a7c1d9a0f3]\n",
       "class E5--><a href=\"psysml:f923cfab-76bb-4261-b6e2-b145e124ea23\" target=\"_top\" title=\"psysml:f923cfab-76bb-4261-b6e2-b145e124ea23\" xlink:actuate=\"onRequest\" xlink:href=\"psysml:f923cfab-76bb-4261-b6e2-b145e124ea23\" xlink:show=\"new\" xlink:title=\"psysml:f923cfab-76bb-4261-b6e2-b145e124ea23\" xlink:type=\"simple\"><rect fill=\"#FFFFFF\" height=\"45.9375\" id=\"E5\" rx=\"10\" ry=\"10\" style=\"stroke: #383838; stroke-width: 1.5;\" width=\"106\" x=\"117\" y=\"41\"/><text fill=\"#000000\" font-family=\"sans-serif\" font-size=\"12\" font-style=\"italic\" lengthAdjust=\"spacingAndGlyphs\" textLength=\"40\" x=\"150\" y=\"57.1387\">«part»</text><text fill=\"#000000\" font-family=\"sans-serif\" font-size=\"12\" lengthAdjust=\"spacingAndGlyphs\" textLength=\"96\" x=\"120\" y=\"71.1074\">vehicle: Vehicle</text><line style=\"stroke: #383838; stroke-width: 1.5;\" x1=\"118\" x2=\"222\" y1=\"78.9375\" y2=\"78.9375\"/></a><!--MD5=[60a26617385b1d2d0262a64233df1f8d]\n",
       "class E6--><a href=\"psysml:18d80ae2-9a03-458c-b60e-63912d0f7f6e\" target=\"_top\" title=\"psysml:18d80ae2-9a03-458c-b60e-63912d0f7f6e\" xlink:actuate=\"onRequest\" xlink:href=\"psysml:18d80ae2-9a03-458c-b60e-63912d0f7f6e\" xlink:show=\"new\" xlink:title=\"psysml:18d80ae2-9a03-458c-b60e-63912d0f7f6e\" xlink:type=\"simple\"><rect fill=\"#FFFFFF\" height=\"45.9375\" id=\"E6\" rx=\"10\" ry=\"10\" style=\"stroke: #383838; stroke-width: 1.5;\" width=\"65\" x=\"137.5\" y=\"147\"/><text fill=\"#000000\" font-family=\"sans-serif\" font-size=\"12\" font-style=\"italic\" lengthAdjust=\"spacingAndGlyphs\" textLength=\"40\" x=\"150\" y=\"163.1387\">«part»</text><text fill=\"#000000\" font-family=\"sans-serif\" font-size=\"12\" lengthAdjust=\"spacingAndGlyphs\" textLength=\"55\" x=\"140.5\" y=\"177.1074\">w: Wheel</text><line style=\"stroke: #383838; stroke-width: 1.5;\" x1=\"138.5\" x2=\"201.5\" y1=\"184.9375\" y2=\"184.9375\"/></a><!--MD5=[2156ba9850f5573cc1fc38a6a4b2f02b]\n",
       "class E7--><a href=\"psysml:d8e6d622-5b20-4e66-a4f5-31436dffa7f8\" target=\"_top\" title=\"psysml:d8e6d622-5b20-4e66-a4f5-31436dffa7f8\" xlink:actuate=\"onRequest\" xlink:href=\"psysml:d8e6d622-5b20-4e66-a4f5-31436dffa7f8\" xlink:show=\"new\" xlink:title=\"psysml:d8e6d622-5b20-4e66-a4f5-31436dffa7f8\" xlink:type=\"simple\"><rect fill=\"#FFFFFF\" height=\"45.9375\" id=\"E7\" rx=\"10\" ry=\"10\" style=\"stroke: #383838; stroke-width: 1.5;\" width=\"42\" x=\"238\" y=\"147\"/><text fill=\"#000000\" font-family=\"sans-serif\" font-size=\"12\" font-style=\"italic\" lengthAdjust=\"spacingAndGlyphs\" textLength=\"40\" x=\"239\" y=\"163.1387\">«part»</text><text fill=\"#000000\" font-family=\"sans-serif\" font-size=\"12\" lengthAdjust=\"spacingAndGlyphs\" textLength=\"8\" x=\"253\" y=\"177.1074\">q</text><line style=\"stroke: #383838; stroke-width: 1.5;\" x1=\"239\" x2=\"279\" y1=\"184.9375\" y2=\"184.9375\"/></a><!--MD5=[4672eba38e49728da53d11aeb285b987]\n",
       "reverse link E3 to E4--><a href=\"psysml:c0940f14-41cf-4917-82b9-67a4e9015e1e\" target=\"_top\" title=\"psysml:c0940f14-41cf-4917-82b9-67a4e9015e1e\" xlink:actuate=\"onRequest\" xlink:href=\"psysml:c0940f14-41cf-4917-82b9-67a4e9015e1e\" xlink:show=\"new\" xlink:title=\"psysml:c0940f14-41cf-4917-82b9-67a4e9015e1e\" xlink:type=\"simple\"><path d=\"M170,314.34 C170,329.3 170,346.02 170,358.98 \" fill=\"none\" id=\"E3&lt;-E4\" style=\"stroke: #383838; stroke-width: 1.0;\"/><ellipse cx=\"170\" cy=\"307.06\" fill=\"#FFFFFF\" rx=\"8\" ry=\"8\" style=\"stroke: #383838; stroke-width: 1.0;\"/><line style=\"stroke: #383838; stroke-width: 1.0;\" x1=\"170\" x2=\"170\" y1=\"315.06\" y2=\"299.06\"/><line style=\"stroke: #383838; stroke-width: 1.0;\" x1=\"162\" x2=\"178\" y1=\"307.06\" y2=\"307.06\"/></a><!--MD5=[15ebcb19ae302d9b601edb458606d402]\n",
       "link E5 to E2--><a href=\"psysml:850ba0ca-d879-4a0e-89fc-6ea0ed57cb99\" target=\"_top\" title=\"psysml:850ba0ca-d879-4a0e-89fc-6ea0ed57cb99\" xlink:actuate=\"onRequest\" xlink:href=\"psysml:850ba0ca-d879-4a0e-89fc-6ea0ed57cb99\" xlink:show=\"new\" xlink:title=\"psysml:850ba0ca-d879-4a0e-89fc-6ea0ed57cb99\" xlink:type=\"simple\"><path d=\"M148.16,87.06 C135.05,100.29 118.05,117.46 103,132.65 \" fill=\"none\" id=\"E5-&gt;E2\" style=\"stroke: #383838; stroke-width: 1.0;\"/><polygon fill=\"#FFFFFF\" points=\"88.81,146.98,97.2023,128.5526,107.1517,138.402,88.81,146.98\" style=\"stroke: #383838; stroke-width: 1.0;\"/><ellipse cx=\"102.6338\" cy=\"125.9088\" fill=\"#383838\" rx=\"2\" ry=\"2\" style=\"stroke: #383838; stroke-width: 1.0;\"/><ellipse cx=\"109.7405\" cy=\"132.9441\" fill=\"#383838\" rx=\"2\" ry=\"2\" style=\"stroke: #383838; stroke-width: 1.0;\"/></a><!--MD5=[85d356282659285ab4b2cfe2f634dd2b]\n",
       "reverse link E5 to E6--><a href=\"psysml:7ba8ce74-5e37-47c9-ae89-e5fbe634ad70\" target=\"_top\" title=\"psysml:7ba8ce74-5e37-47c9-ae89-e5fbe634ad70\" xlink:actuate=\"onRequest\" xlink:href=\"psysml:7ba8ce74-5e37-47c9-ae89-e5fbe634ad70\" xlink:show=\"new\" xlink:title=\"psysml:7ba8ce74-5e37-47c9-ae89-e5fbe634ad70\" xlink:type=\"simple\"><path d=\"M170,100.44 C170,115.87 170,133.47 170,146.98 \" fill=\"none\" id=\"E5&lt;-E6\" style=\"stroke: #383838; stroke-width: 1.0;\"/><polygon fill=\"#383838\" points=\"170,87.06,166,93.06,170,99.06,174,93.06,170,87.06\" style=\"stroke: #383838; stroke-width: 1.0;\"/><text fill=\"#000000\" font-family=\"sans-serif\" font-size=\"13\" lengthAdjust=\"spacingAndGlyphs\" textLength=\"8\" x=\"160.925\" y=\"135.8709\">1</text></a><!--MD5=[a717450b82c80b9240a525fa862496af]\n",
       "link E6 to E3--><a href=\"psysml:1d3850ff-efaa-430d-97bf-61df51a810b5\" target=\"_top\" title=\"psysml:1d3850ff-efaa-430d-97bf-61df51a810b5\" xlink:actuate=\"onRequest\" xlink:href=\"psysml:1d3850ff-efaa-430d-97bf-61df51a810b5\" xlink:show=\"new\" xlink:title=\"psysml:1d3850ff-efaa-430d-97bf-61df51a810b5\" xlink:type=\"simple\"><path d=\"M170,193.06 C170,204.64 170,219.23 170,232.87 \" fill=\"none\" id=\"E6-&gt;E3\" style=\"stroke: #383838; stroke-width: 1.0;\"/><polygon fill=\"#FFFFFF\" points=\"170,252.98,163,233.98,177,233.98,170,252.98\" style=\"stroke: #383838; stroke-width: 1.0;\"/><ellipse cx=\"165\" cy=\"228.28\" fill=\"#383838\" rx=\"2\" ry=\"2\" style=\"stroke: #383838; stroke-width: 1.0;\"/><ellipse cx=\"175\" cy=\"228.28\" fill=\"#383838\" rx=\"2\" ry=\"2\" style=\"stroke: #383838; stroke-width: 1.0;\"/></a><!--MD5=[452b418e7f8a40397a49b8c0a78acc5b]\n",
       "reverse link E5 to E7--><a href=\"psysml:6b186d55-a94d-4ce1-b66f-683be34979f3\" target=\"_top\" title=\"psysml:6b186d55-a94d-4ce1-b66f-683be34979f3\" xlink:actuate=\"onRequest\" xlink:href=\"psysml:6b186d55-a94d-4ce1-b66f-683be34979f3\" xlink:show=\"new\" xlink:title=\"psysml:6b186d55-a94d-4ce1-b66f-683be34979f3\" xlink:type=\"simple\"><path d=\"M197.53,97.16 C211.36,113.33 227.77,132.51 240.15,146.98 \" fill=\"none\" id=\"E5&lt;-E7\" style=\"stroke: #383838; stroke-width: 1.0;\"/><polygon fill=\"#383838\" points=\"188.87,87.06,189.736,94.2189,196.6773,96.1729,195.8113,89.014,188.87,87.06\" style=\"stroke: #383838; stroke-width: 1.0;\"/><text fill=\"#000000\" font-family=\"sans-serif\" font-size=\"13\" lengthAdjust=\"spacingAndGlyphs\" textLength=\"8\" x=\"226.0091\" y=\"135.8709\">1</text></a><!--MD5=[9d49026e8d6b8898846644fe052afba8]\n",
       "@startuml\r\n",
       "skinparam monochrome true\r\n",
       "skinparam classbackgroundcolor white\r\n",
       "skinparam shadowing false\r\n",
       "skinparam wrapWidth 300\r\n",
       "hide circle\r\n",
       "\r\n",
       "package \"PackageVehicles\" as E1  [[psysml:205f314e-215d-4dec-bb6a-4cb5569da1f9 ]]  {\r\n",
       "comp def \"Vehicle\" as E2  <<(T,blue) part  def>> [[psysml:b11c4da1-8497-4004-9029-28da01b8091b ]] {\r\n",
       "}\r\n",
       "comp def \"Wheel\" as E3  <<(T,blue) part  def>> [[psysml:b916723c-c70a-4d80-8786-7eb8d864d05e ]] {\r\n",
       "}\r\n",
       "comp def \"Lugbolt\" as E4  <<(T,blue) part  def>> [[psysml:46c99c69-b576-4aca-a1b7-2de83c349b0f ]] {\r\n",
       "}\r\n",
       "comp usage \"vehicle: Vehicle \" as E5  <<(T,blue) part>> [[psysml:f923cfab-76bb-4261-b6e2-b145e124ea23 ]] {\r\n",
       "}\r\n",
       "comp usage \"w: Wheel \" as E6  <<(T,blue) part>> [[psysml:18d80ae2-9a03-458c-b60e-63912d0f7f6e ]] {\r\n",
       "}\r\n",
       "comp usage \"q \" as E7  <<(T,blue) part>> [[psysml:d8e6d622-5b20-4e66-a4f5-31436dffa7f8 ]] {\r\n",
       "}\r\n",
       "}\r\n",
       "E3 +- - E4 [[psysml:c0940f14-41cf-4917-82b9-67a4e9015e1e ]] \r\n",
       "E5 - -:|> E2 [[psysml:850ba0ca-d879-4a0e-89fc-6ea0ed57cb99 ]] \r\n",
       "E5 *- - \"1\"E6 [[psysml:7ba8ce74-5e37-47c9-ae89-e5fbe634ad70 ]] \r\n",
       "E6 - -:|> E3 [[psysml:1d3850ff-efaa-430d-97bf-61df51a810b5 ]] \r\n",
       "E5 *- - \"1\"E7 [[psysml:6b186d55-a94d-4ce1-b66f-683be34979f3 ]] \r\n",
       "@enduml\r\n",
       "\n",
       "PlantUML version 1.2020.13(Sat Jun 13 22:26:38 AEST 2020)\n",
       "(EPL source distribution)\n",
       "Java Runtime: OpenJDK Runtime Environment\n",
       "JVM: OpenJDK 64-Bit Server VM\n",
       "Default Encoding: UTF-8\n",
       "Language: en\n",
       "Country: AU\n",
       "--></g></svg>"
      ]
     },
     "execution_count": 2,
     "metadata": {},
     "output_type": "execute_result"
    }
   ],
   "source": [
    "%viz --view=tree PackageVehicles"
   ]
  },
  {
   "cell_type": "code",
   "execution_count": null,
   "metadata": {},
   "outputs": [],
   "source": []
  }
 ],
 "metadata": {
  "kernelspec": {
   "display_name": "SysML",
   "language": "sysml",
   "name": "sysml"
  },
  "language_info": {
   "codemirror_mode": "sysml",
   "file_extension": ".sysml",
   "mimetype": "text/x-sysml",
   "name": "SysML",
   "pygments_lexer": "java",
   "version": "1.0.0"
  }
 },
 "nbformat": 4,
 "nbformat_minor": 4
}
