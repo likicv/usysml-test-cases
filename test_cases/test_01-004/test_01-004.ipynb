{
 "cells": [
  {
   "cell_type": "code",
   "execution_count": 1,
   "metadata": {},
   "outputs": [
    {
     "data": {
      "text/plain": [
       "Package PackageVehicles (7ebc5cd6-85bc-4c90-9663-5538618fb040)\n"
      ]
     },
     "execution_count": 1,
     "metadata": {},
     "output_type": "execute_result"
    }
   ],
   "source": [
    "package PackageVehicles {\n",
    "  \n",
    "    part def Vehicle;\n",
    "    part def Wheel;\n",
    "\n",
    "    part vehicle:Vehicle {\n",
    "        part def Wheel;\n",
    "        part w:Wheel[4];\n",
    "    }\n",
    "}"
   ]
  },
  {
   "cell_type": "code",
   "execution_count": 2,
   "metadata": {},
   "outputs": [
    {
     "data": {
      "image/svg+xml": [
       "<?xml version=\"1.0\" encoding=\"UTF-8\" standalone=\"no\"?><svg xmlns=\"http://www.w3.org/2000/svg\" xmlns:xlink=\"http://www.w3.org/1999/xlink\" contentScriptType=\"application/ecmascript\" contentStyleType=\"text/css\" height=\"327px\" preserveAspectRatio=\"none\" style=\"width:273px;height:327px;\" version=\"1.1\" viewBox=\"0 0 273 327\" width=\"273px\" zoomAndPan=\"magnify\"><defs/><g><!--MD5=[fbc87193dbaf4d95561dea2c320d4a47]\n",
       "cluster E1--><a href=\"psysml:983194b4-773e-45f4-8d89-61606c99d501\" target=\"_top\" title=\"psysml:983194b4-773e-45f4-8d89-61606c99d501\" xlink:actuate=\"onRequest\" xlink:href=\"psysml:983194b4-773e-45f4-8d89-61606c99d501\" xlink:show=\"new\" xlink:title=\"psysml:983194b4-773e-45f4-8d89-61606c99d501\" xlink:type=\"simple\"><polygon fill=\"#FFFFFF\" points=\"16,6,155,6,162,28.2969,251,28.2969,251,315,16,315,16,6\" style=\"stroke: #000000; stroke-width: 1.5;\"/><line style=\"stroke: #000000; stroke-width: 1.5;\" x1=\"16\" x2=\"162\" y1=\"28.2969\" y2=\"28.2969\"/><text fill=\"#000000\" font-family=\"sans-serif\" font-size=\"14\" font-weight=\"bold\" lengthAdjust=\"spacingAndGlyphs\" textLength=\"133\" x=\"20\" y=\"20.9951\">PackageVehicles</text></a><!--MD5=[b4997ac47864f28c2f74865a473b2911]\n",
       "class E2--><a href=\"psysml:b6e9c6fe-def6-48e3-94e2-d2ae5cb1b452\" target=\"_top\" title=\"psysml:b6e9c6fe-def6-48e3-94e2-d2ae5cb1b452\" xlink:actuate=\"onRequest\" xlink:href=\"psysml:b6e9c6fe-def6-48e3-94e2-d2ae5cb1b452\" xlink:show=\"new\" xlink:title=\"psysml:b6e9c6fe-def6-48e3-94e2-d2ae5cb1b452\" xlink:type=\"simple\"><rect fill=\"#FFFFFF\" height=\"45.9375\" id=\"E2\" style=\"stroke: #383838; stroke-width: 1.5;\" width=\"66\" x=\"32\" y=\"147\"/><text fill=\"#000000\" font-family=\"sans-serif\" font-size=\"12\" font-style=\"italic\" lengthAdjust=\"spacingAndGlyphs\" textLength=\"64\" x=\"33\" y=\"163.1387\">«part def»</text><text fill=\"#000000\" font-family=\"sans-serif\" font-size=\"12\" lengthAdjust=\"spacingAndGlyphs\" textLength=\"45\" x=\"42.5\" y=\"177.1074\">Vehicle</text><line style=\"stroke: #383838; stroke-width: 1.5;\" x1=\"33\" x2=\"97\" y1=\"184.9375\" y2=\"184.9375\"/></a><!--MD5=[09b614a08d8cba4a07c9adeb5e0fee81]\n",
       "class E3--><a href=\"psysml:10c59ba2-4ae3-4063-b854-5feebf3191e4\" target=\"_top\" title=\"psysml:10c59ba2-4ae3-4063-b854-5feebf3191e4\" xlink:actuate=\"onRequest\" xlink:href=\"psysml:10c59ba2-4ae3-4063-b854-5feebf3191e4\" xlink:show=\"new\" xlink:title=\"psysml:10c59ba2-4ae3-4063-b854-5feebf3191e4\" xlink:type=\"simple\"><rect fill=\"#FFFFFF\" height=\"45.9375\" id=\"E3\" style=\"stroke: #383838; stroke-width: 1.5;\" width=\"66\" x=\"169\" y=\"41\"/><text fill=\"#000000\" font-family=\"sans-serif\" font-size=\"12\" font-style=\"italic\" lengthAdjust=\"spacingAndGlyphs\" textLength=\"64\" x=\"170\" y=\"57.1387\">«part def»</text><text fill=\"#000000\" font-family=\"sans-serif\" font-size=\"12\" lengthAdjust=\"spacingAndGlyphs\" textLength=\"38\" x=\"183\" y=\"71.1074\">Wheel</text><line style=\"stroke: #383838; stroke-width: 1.5;\" x1=\"170\" x2=\"234\" y1=\"78.9375\" y2=\"78.9375\"/></a><!--MD5=[ebbe1d658d1005bcc118a6aa81145e00]\n",
       "class E4--><a href=\"psysml:59f96d2c-b110-473d-a7ba-3b31cf6e9e0b\" target=\"_top\" title=\"psysml:59f96d2c-b110-473d-a7ba-3b31cf6e9e0b\" xlink:actuate=\"onRequest\" xlink:href=\"psysml:59f96d2c-b110-473d-a7ba-3b31cf6e9e0b\" xlink:show=\"new\" xlink:title=\"psysml:59f96d2c-b110-473d-a7ba-3b31cf6e9e0b\" xlink:type=\"simple\"><rect fill=\"#FFFFFF\" height=\"45.9375\" id=\"E4\" rx=\"10\" ry=\"10\" style=\"stroke: #383838; stroke-width: 1.5;\" width=\"102\" x=\"32\" y=\"41\"/><text fill=\"#000000\" font-family=\"sans-serif\" font-size=\"12\" font-style=\"italic\" lengthAdjust=\"spacingAndGlyphs\" textLength=\"40\" x=\"63\" y=\"57.1387\">«part»</text><text fill=\"#000000\" font-family=\"sans-serif\" font-size=\"12\" lengthAdjust=\"spacingAndGlyphs\" textLength=\"96\" x=\"35\" y=\"71.1074\">vehicle: Vehicle</text><line style=\"stroke: #383838; stroke-width: 1.5;\" x1=\"33\" x2=\"133\" y1=\"78.9375\" y2=\"78.9375\"/></a><!--MD5=[270fce915f116d4de14055a7c1d9a0f3]\n",
       "class E5--><a href=\"psysml:7f34b85e-bd9d-44d2-9a65-6db17d181b78\" target=\"_top\" title=\"psysml:7f34b85e-bd9d-44d2-9a65-6db17d181b78\" xlink:actuate=\"onRequest\" xlink:href=\"psysml:7f34b85e-bd9d-44d2-9a65-6db17d181b78\" xlink:show=\"new\" xlink:title=\"psysml:7f34b85e-bd9d-44d2-9a65-6db17d181b78\" xlink:type=\"simple\"><rect fill=\"#FFFFFF\" height=\"45.9375\" id=\"E5\" style=\"stroke: #383838; stroke-width: 1.5;\" width=\"66\" x=\"134\" y=\"253\"/><text fill=\"#000000\" font-family=\"sans-serif\" font-size=\"12\" font-style=\"italic\" lengthAdjust=\"spacingAndGlyphs\" textLength=\"64\" x=\"135\" y=\"269.1387\">«part def»</text><text fill=\"#000000\" font-family=\"sans-serif\" font-size=\"12\" lengthAdjust=\"spacingAndGlyphs\" textLength=\"38\" x=\"148\" y=\"283.1074\">Wheel</text><line style=\"stroke: #383838; stroke-width: 1.5;\" x1=\"135\" x2=\"199\" y1=\"290.9375\" y2=\"290.9375\"/></a><!--MD5=[60a26617385b1d2d0262a64233df1f8d]\n",
       "class E6--><a href=\"psysml:a54fc4c9-e2de-43fe-9579-fad9bac81ecf\" target=\"_top\" title=\"psysml:a54fc4c9-e2de-43fe-9579-fad9bac81ecf\" xlink:actuate=\"onRequest\" xlink:href=\"psysml:a54fc4c9-e2de-43fe-9579-fad9bac81ecf\" xlink:show=\"new\" xlink:title=\"psysml:a54fc4c9-e2de-43fe-9579-fad9bac81ecf\" xlink:type=\"simple\"><rect fill=\"#FFFFFF\" height=\"45.9375\" id=\"E6\" rx=\"10\" ry=\"10\" style=\"stroke: #383838; stroke-width: 1.5;\" width=\"61\" x=\"170.5\" y=\"147\"/><text fill=\"#000000\" font-family=\"sans-serif\" font-size=\"12\" font-style=\"italic\" lengthAdjust=\"spacingAndGlyphs\" textLength=\"40\" x=\"181\" y=\"163.1387\">«part»</text><text fill=\"#000000\" font-family=\"sans-serif\" font-size=\"12\" lengthAdjust=\"spacingAndGlyphs\" textLength=\"55\" x=\"173.5\" y=\"177.1074\">w: Wheel</text><line style=\"stroke: #383838; stroke-width: 1.5;\" x1=\"171.5\" x2=\"230.5\" y1=\"184.9375\" y2=\"184.9375\"/></a><!--MD5=[185131fc0dcab0a4505a2ebe144e961b]\n",
       "link E4 to E2--><a href=\"psysml:580eca93-c6fd-47b4-bf5f-c3d822ccc091\" target=\"_top\" title=\"psysml:580eca93-c6fd-47b4-bf5f-c3d822ccc091\" xlink:actuate=\"onRequest\" xlink:href=\"psysml:580eca93-c6fd-47b4-bf5f-c3d822ccc091\" xlink:show=\"new\" xlink:title=\"psysml:580eca93-c6fd-47b4-bf5f-c3d822ccc091\" xlink:type=\"simple\"><path d=\"M79.18,87.06 C77.18,98.64 74.65,113.23 72.29,126.87 \" fill=\"none\" id=\"E4-&gt;E2\" style=\"stroke: #383838; stroke-width: 1.0;\"/><polygon fill=\"#FFFFFF\" points=\"68.81,146.98,65.1434,127.0663,78.9394,129.4473,68.81,146.98\" style=\"stroke: #383838; stroke-width: 1.0;\"/><ellipse cx=\"68.0837\" cy=\"121.7895\" fill=\"#383838\" rx=\"2\" ry=\"2\" style=\"stroke: #383838; stroke-width: 1.0;\"/><ellipse cx=\"77.938\" cy=\"123.4902\" fill=\"#383838\" rx=\"2\" ry=\"2\" style=\"stroke: #383838; stroke-width: 1.0;\"/></a><!--MD5=[62aa6af11e70f752912c1cb0466f24f7]\n",
       "reverse link E4 to E5--><a href=\"psysml:c830fc1a-6b08-4151-bffe-dc0f811c0b3c\" target=\"_top\" title=\"psysml:c830fc1a-6b08-4151-bffe-dc0f811c0b3c\" xlink:actuate=\"onRequest\" xlink:href=\"psysml:c830fc1a-6b08-4151-bffe-dc0f811c0b3c\" xlink:show=\"new\" xlink:title=\"psysml:c830fc1a-6b08-4151-bffe-dc0f811c0b3c\" xlink:type=\"simple\"><path d=\"M97.77,101.61 C103.47,115.78 110.05,132.14 116,147 C130.85,184.09 148.03,227.26 158.18,252.79 \" fill=\"none\" id=\"E4&lt;-E5\" style=\"stroke: #383838; stroke-width: 1.0;\"/><ellipse cx=\"94.9669\" cy=\"94.6915\" fill=\"#FFFFFF\" rx=\"8\" ry=\"8\" style=\"stroke: #383838; stroke-width: 1.0;\"/><line style=\"stroke: #383838; stroke-width: 1.0;\" x1=\"97.9538\" x2=\"91.98\" y1=\"102.113\" y2=\"87.27\"/><line style=\"stroke: #383838; stroke-width: 1.0;\" x1=\"87.5454\" x2=\"102.3884\" y1=\"97.6784\" y2=\"91.7046\"/></a><!--MD5=[6db378b65e1aef66a01cb3103812b399]\n",
       "reverse link E4 to E6--><a href=\"psysml:63b5ba1e-5b00-40f6-9974-d8ad05d28b1a\" target=\"_top\" title=\"psysml:63b5ba1e-5b00-40f6-9974-d8ad05d28b1a\" xlink:actuate=\"onRequest\" xlink:href=\"psysml:63b5ba1e-5b00-40f6-9974-d8ad05d28b1a\" xlink:show=\"new\" xlink:title=\"psysml:63b5ba1e-5b00-40f6-9974-d8ad05d28b1a\" xlink:type=\"simple\"><path d=\"M117.93,95.79 C136.59,112.23 159.12,132.09 176.01,146.98 \" fill=\"none\" id=\"E4&lt;-E6\" style=\"stroke: #383838; stroke-width: 1.0;\"/><polygon fill=\"#383838\" points=\"108.02,87.06,109.8712,94.0294,117.0165,95.0012,115.1653,88.0318,108.02,87.06\" style=\"stroke: #383838; stroke-width: 1.0;\"/><text fill=\"#000000\" font-family=\"sans-serif\" font-size=\"13\" lengthAdjust=\"spacingAndGlyphs\" textLength=\"8\" x=\"160.2189\" y=\"135.8709\">4</text></a><!--MD5=[25b190c987b1e74e5126d372c5a73af1]\n",
       "link E6 to E5--><a href=\"psysml:e40d5b4a-0947-4f9f-bcd6-e4805d011b17\" target=\"_top\" title=\"psysml:e40d5b4a-0947-4f9f-bcd6-e4805d011b17\" xlink:actuate=\"onRequest\" xlink:href=\"psysml:e40d5b4a-0947-4f9f-bcd6-e4805d011b17\" xlink:show=\"new\" xlink:title=\"psysml:e40d5b4a-0947-4f9f-bcd6-e4805d011b17\" xlink:type=\"simple\"><path d=\"M193.79,193.06 C189.91,204.91 185.01,219.92 180.45,233.85 \" fill=\"none\" id=\"E6-&gt;E5\" style=\"stroke: #383838; stroke-width: 1.0;\"/><polygon fill=\"#FFFFFF\" points=\"174.2,252.98,173.4487,232.7455,186.7561,237.0946,174.2,252.98\" style=\"stroke: #383838; stroke-width: 1.0;\"/><ellipse cx=\"177.1205\" cy=\"227.9488\" fill=\"#383838\" rx=\"2\" ry=\"2\" style=\"stroke: #383838; stroke-width: 1.0;\"/><ellipse cx=\"186.6257\" cy=\"231.0553\" fill=\"#383838\" rx=\"2\" ry=\"2\" style=\"stroke: #383838; stroke-width: 1.0;\"/></a><!--MD5=[48ea73dd50fd0407f306d8ba0add867e]\n",
       "@startuml\r\n",
       "skinparam monochrome true\r\n",
       "skinparam classbackgroundcolor white\r\n",
       "skinparam shadowing false\r\n",
       "skinparam wrapWidth 300\r\n",
       "hide circle\r\n",
       "\r\n",
       "package \"PackageVehicles\" as E1  [[psysml:983194b4-773e-45f4-8d89-61606c99d501 ]]  {\r\n",
       "comp def \"Vehicle\" as E2  <<(T,blue) part def>> [[psysml:b6e9c6fe-def6-48e3-94e2-d2ae5cb1b452 ]] {\r\n",
       "}\r\n",
       "comp def \"Wheel\" as E3  <<(T,blue) part def>> [[psysml:10c59ba2-4ae3-4063-b854-5feebf3191e4 ]] {\r\n",
       "}\r\n",
       "comp usage \"vehicle: Vehicle\" as E4  <<(T,blue) part>> [[psysml:59f96d2c-b110-473d-a7ba-3b31cf6e9e0b ]] {\r\n",
       "}\r\n",
       "comp def \"Wheel\" as E5  <<(T,blue) part def>> [[psysml:7f34b85e-bd9d-44d2-9a65-6db17d181b78 ]] {\r\n",
       "}\r\n",
       "comp usage \"w: Wheel\" as E6  <<(T,blue) part>> [[psysml:a54fc4c9-e2de-43fe-9579-fad9bac81ecf ]] {\r\n",
       "}\r\n",
       "E4 - -:|> E2 [[psysml:580eca93-c6fd-47b4-bf5f-c3d822ccc091 ]] \r\n",
       "E4 +- - E5 [[psysml:c830fc1a-6b08-4151-bffe-dc0f811c0b3c ]] \r\n",
       "E4 *- - \"4\"E6 [[psysml:63b5ba1e-5b00-40f6-9974-d8ad05d28b1a ]] \r\n",
       "E6 - -:|> E5 [[psysml:e40d5b4a-0947-4f9f-bcd6-e4805d011b17 ]] \r\n",
       "}\r\n",
       "@enduml\r\n",
       "\n",
       "PlantUML version 1.2020.13(Sat Jun 13 22:26:38 AEST 2020)\n",
       "(EPL source distribution)\n",
       "Java Runtime: OpenJDK Runtime Environment\n",
       "JVM: OpenJDK 64-Bit Server VM\n",
       "Default Encoding: UTF-8\n",
       "Language: en\n",
       "Country: AU\n",
       "--></g></svg>"
      ]
     },
     "execution_count": 2,
     "metadata": {},
     "output_type": "execute_result"
    }
   ],
   "source": [
    "%viz --view=tree PackageVehicles"
   ]
  }
 ],
 "metadata": {
  "kernelspec": {
   "display_name": "SysML",
   "language": "sysml",
   "name": "sysml"
  },
  "language_info": {
   "codemirror_mode": "sysml",
   "file_extension": ".sysml",
   "mimetype": "text/x-sysml",
   "name": "SysML",
   "pygments_lexer": "java",
   "version": "1.0.0"
  }
 },
 "nbformat": 4,
 "nbformat_minor": 4
}
